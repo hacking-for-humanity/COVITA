{
 "cells": [
  {
   "cell_type": "code",
   "execution_count": 1,
   "metadata": {},
   "outputs": [],
   "source": [
    "import os\n",
    "# Install java\"\n",
    "# ! sudo apt-get install -y openjdk-8-jdk-headless -qq > /dev/null\n",
    "os.environ[\"JAVA_HOME\"] = \"/usr/lib/jvm/java-8-openjdk-amd64\"\n",
    "os.environ[\"PATH\"] = os.environ[\"JAVA_HOME\"] + \"/bin:\" + os.environ[\"PATH\"]"
   ]
  },
  {
   "cell_type": "code",
   "execution_count": null,
   "metadata": {},
   "outputs": [],
   "source": [
    "# !java -version\n",
    "# !free -g"
   ]
  },
  {
   "cell_type": "code",
   "execution_count": null,
   "metadata": {},
   "outputs": [],
   "source": [
    "# !pip install --ignore-installed -q pyspark==2.4.5\n",
    "# !gsutil cp gs://hadoop-lib/gcs/gcs-connector-hadoop2-latest.jar /opt/conda/lib/python3.7/site-packages/pyspark/jars/\n",
    "    \n",
    "# !pip install --ignore-installed spark-nlp==2.5.1\n",
    "# !pip install wordcloud\n",
    "# !pip install vaderSentiment"
   ]
  },
  {
   "cell_type": "code",
   "execution_count": 2,
   "metadata": {},
   "outputs": [
    {
     "name": "stdout",
     "output_type": "stream",
     "text": [
      "jupyter   1782  1767 44 22:26 ?        00:00:12 /usr/lib/jvm/java-8-openjdk-amd64/bin/java -cp /opt/conda/lib/python3.7/site-packages/pyspark/conf:/opt/conda/lib/python3.7/site-packages/pyspark/jars/* -Xmx40G org.apache.spark.deploy.SparkSubmit --conf spark.master=local[*] --conf spark.driver.memory=40G --conf spark.kryoserializer.buffer.max=2000M --conf spark.jars.packages=com.johnsnowlabs.nlp:spark-nlp_2.11:2.5.1 --conf spark.serializer=org.apache.spark.serializer.KryoSerializer --conf spark.app.name=Spark NLP Licensed --conf fs.AbstractFileSystem.gs.impl=com.google.cloud.hadoop.fs.gcs.GoogleHadoopFS --conf fs.gs.impl=com.google.cloud.hadoop.fs.gcs.GoogleHadoopFileSystem pyspark-shell\n",
      "jupyter   1950  1767  0 22:26 pts/1    00:00:00 /bin/sh -c ps -ef | grep spark\n",
      "jupyter   1952  1950  0 22:26 pts/1    00:00:00 grep spark\n"
     ]
    }
   ],
   "source": [
    "import sparknlp\n",
    "import json\n",
    "import os\n",
    "from pyspark.ml import Pipeline\n",
    "from pyspark.sql import SparkSession\n",
    "from sparknlp.annotator import *\n",
    "from sparknlp.base import *\n",
    "from pyspark.sql.functions import from_unixtime\n",
    "from pyspark.sql.functions import unix_timestamp\n",
    "from pyspark.sql.functions import *\n",
    "from pyspark.sql.functions import explode, col\n",
    "from pyspark.sql.functions import from_unixtime, to_date, asc, year, udf, explode, split, col, desc, length, rank, dense_rank, avg, sum\n",
    "from pyspark.sql.window import Window\n",
    "from pyspark.ml.linalg import Vectors\n",
    "from pyspark.ml.feature import VectorAssembler, StandardScaler\n",
    "from pyspark.ml.stat import Correlation\n",
    "from pyspark.ml.clustering import BisectingKMeans\n",
    "from pyspark.ml.evaluation import ClusteringEvaluator\n",
    "from pyspark.ml import Pipeline\n",
    "from pyspark.ml.tuning import CrossValidator, ParamGridBuilder\n",
    "from pyspark.sql.functions import col, to_timestamp,date_format\n",
    "from pyspark import StorageLevel\n",
    "import pyspark.sql.functions as F\n",
    "from sparknlp.pretrained import PretrainedPipeline\n",
    "from collections import Counter\n",
    "from wordcloud import WordCloud\n",
    "from sparknlp.base import Finisher, DocumentAssembler\n",
    "from sparknlp.annotator import (Tokenizer, Normalizer,LemmatizerModel, StopWordsCleaner)\n",
    "from vaderSentiment.vaderSentiment import SentimentIntensityAnalyzer\n",
    "from pyspark.ml import Pipeline\n",
    "import matplotlib.pyplot as plt\n",
    "import seaborn as sns\n",
    "import nltk\n",
    "from nltk.corpus import stopwords\n",
    "\n",
    "def start():\n",
    "    builder = SparkSession.builder \\\n",
    "        .appName(\"Spark NLP Licensed\") \\\n",
    "        .master(\"local[*]\") \\\n",
    "        .config(\"spark.driver.memory\", \"40G\") \\\n",
    "        .config(\"spark.serializer\", \"org.apache.spark.serializer.KryoSerializer\") \\\n",
    "        .config(\"spark.kryoserializer.buffer.max\", \"2000M\") \\\n",
    "        .config(\"spark.jars.packages\", \"com.johnsnowlabs.nlp:spark-nlp_2.11:2.5.1\") \\\n",
    "        .config(\"fs.gs.impl\", \"com.google.cloud.hadoop.fs.gcs.GoogleHadoopFileSystem\") \\\n",
    "        .config(\"fs.AbstractFileSystem.gs.impl\", \"com.google.cloud.hadoop.fs.gcs.GoogleHadoopFS\")\n",
    "    return builder.getOrCreate()\n",
    "spark = start()\n",
    "spark.version\n",
    "!ps -ef | grep spark"
   ]
  },
  {
   "cell_type": "markdown",
   "metadata": {},
   "source": [
    "### WordCloud"
   ]
  },
  {
   "cell_type": "code",
   "execution_count": 3,
   "metadata": {},
   "outputs": [
    {
     "name": "stderr",
     "output_type": "stream",
     "text": [
      "[nltk_data] Downloading package stopwords to\n",
      "[nltk_data]     /home/jupyter/nltk_data...\n",
      "[nltk_data]   Package stopwords is already up-to-date!\n"
     ]
    },
    {
     "name": "stdout",
     "output_type": "stream",
     "text": [
      "lemma_antbnc download started this may take some time.\n",
      "Approximate size to download 907.6 KB\n",
      "[OK!]\n"
     ]
    }
   ],
   "source": [
    "nltk.download('stopwords')\n",
    "eng_stopwords = stopwords.words('english')\n",
    "\n",
    "\n",
    "def wordcloud(corpus_sdf):\n",
    "    corpus_pdf = corpus_sdf.limit(500).toPandas()\n",
    "\n",
    "    corpus_dict = {}\n",
    "    for index, row in corpus_pdf.iterrows():\n",
    "        corpus_dict[row['text']] = row['count']\n",
    "        \n",
    "    word_cloud = WordCloud().generate_from_frequencies(corpus_dict)\n",
    "    plt.imshow(word_cloud);\n",
    "    \n",
    "    \n",
    "def remove_stopwords(x):    \n",
    "    sw = stopwords.words(\"english\")\n",
    "    string = ''\n",
    "    for x in x.split(' '):\n",
    "        if x.lower() not in sw:\n",
    "            string += x + ' '\n",
    "    return string\n",
    "\n",
    "\n",
    "nosw = udf(remove_stopwords)\n",
    "spark.udf.register(\"nosw\", nosw)\n",
    "\n",
    "documentAssembler = DocumentAssembler() \\\n",
    "    .setInputCol('text') \\\n",
    "    .setOutputCol('document')\n",
    "\n",
    "tokenizer = Tokenizer() \\\n",
    "    .setInputCols(['document']) \\\n",
    "    .setOutputCol('token')\n",
    "\n",
    "# note normalizer defaults to changing all words to lowercase.\n",
    "# Use .setLowercase(False) to maintain input case.\n",
    "normalizer = Normalizer() \\\n",
    "    .setInputCols(['token']) \\\n",
    "    .setOutputCol('normalized') \\\n",
    "    .setLowercase(True)\n",
    "\n",
    "# note that lemmatizer needs a dictionary. So I used the pre-trained\n",
    "# model (note that it defaults to english)\n",
    "lemmatizer = LemmatizerModel.pretrained() \\\n",
    "    .setInputCols(['normalized']) \\\n",
    "    .setOutputCol('lemma') \\\n",
    "\n",
    "stopwords_cleaner = StopWordsCleaner() \\\n",
    "    .setInputCols(['lemma']) \\\n",
    "    .setOutputCol('clean_lemma') \\\n",
    "    .setCaseSensitive(False) \\\n",
    "    .setStopWords(eng_stopwords) \n",
    "\n",
    "# finisher converts tokens to human-readable output\n",
    "finisher = Finisher() \\\n",
    "    .setInputCols(['clean_lemma']) \\\n",
    "    .setCleanAnnotations(False)\n",
    "\n",
    "pipeline = Pipeline() \\\n",
    "    .setStages([\n",
    "        documentAssembler,\n",
    "        tokenizer,\n",
    "        normalizer,\n",
    "        lemmatizer,\n",
    "        stopwords_cleaner,\n",
    "        finisher\n",
    "    ])\n",
    "\n",
    "def get_words_from_file(file_path):\n",
    "    words = []\n",
    "    with open(file_path) as fo:\n",
    "        for word in fo:\n",
    "            words.append(word.strip())\n",
    "    return set(words)"
   ]
  },
  {
   "cell_type": "markdown",
   "metadata": {},
   "source": [
    "### Read Tweet Data Set"
   ]
  },
  {
   "cell_type": "code",
   "execution_count": 4,
   "metadata": {},
   "outputs": [
    {
     "name": "stdout",
     "output_type": "stream",
     "text": [
      "CPU times: user 4 ms, sys: 0 ns, total: 4 ms\n",
      "Wall time: 1.43 ms\n"
     ]
    }
   ],
   "source": [
    "%%time\n",
    "spark.conf.set(\"spark.sql.files.ignoreCorruptFiles\", \"true\")\n",
    "spark.conf.set(\"spark.sql.legacy.allowCreatingManagedTableUsingNonemptyLocation\",\"true\")"
   ]
  },
  {
   "cell_type": "code",
   "execution_count": 10,
   "metadata": {},
   "outputs": [
    {
     "name": "stdout",
     "output_type": "stream",
     "text": [
      "CPU times: user 12 ms, sys: 0 ns, total: 12 ms\n",
      "Wall time: 51.4 s\n"
     ]
    }
   ],
   "source": [
    "%%time\n",
    "tweet_data_bucket_path = \"gs://bucket-covid/TweetData/COVID-19-TweetIDs-master/2020-03/\"\n",
    "jan_df = spark.read.json(tweet_data_bucket_path + \"coronavirus-tweet-id-2020-03-*-12.jsonl.gz\")"
   ]
  },
  {
   "cell_type": "code",
   "execution_count": null,
   "metadata": {},
   "outputs": [],
   "source": [
    "# Feb Month tweets\n",
    "# %%time\n",
    "# tweet_data_bucket_path = \"gs://bucket-covid/TweetData/COVID-19-TweetIDs-master/2020-02/\"\n",
    "# feb_df = spark.read.json(tweet_data_bucket_path + \"*.gz\")"
   ]
  },
  {
   "cell_type": "code",
   "execution_count": 11,
   "metadata": {},
   "outputs": [
    {
     "name": "stdout",
     "output_type": "stream",
     "text": [
      "CPU times: user 12 ms, sys: 0 ns, total: 12 ms\n",
      "Wall time: 25.9 s\n"
     ]
    }
   ],
   "source": [
    "%%time\n",
    "jan_df = jan_df.select(\"id\", \"created_at\",  \"coordinates\", \"geo\", \"place\", \"full_text\")\n",
    "jan_df.repartition(20).write.mode('overwrite').saveAsTable(\"janTweetData\")"
   ]
  },
  {
   "cell_type": "markdown",
   "metadata": {},
   "source": []
  },
  {
   "cell_type": "code",
   "execution_count": 13,
   "metadata": {},
   "outputs": [
    {
     "name": "stdout",
     "output_type": "stream",
     "text": [
      "CPU times: user 16 ms, sys: 0 ns, total: 16 ms\n",
      "Wall time: 12.2 ms\n"
     ]
    }
   ],
   "source": [
    "%%time\n",
    "analyser = SentimentIntensityAnalyzer()\n",
    "polarity_score = lambda text: analyser.polarity_scores(text)['compound']"
   ]
  },
  {
   "cell_type": "markdown",
   "metadata": {},
   "source": [
    "### Get polarity from tweet text "
   ]
  },
  {
   "cell_type": "code",
   "execution_count": 14,
   "metadata": {},
   "outputs": [
    {
     "name": "stdout",
     "output_type": "stream",
     "text": [
      "CPU times: user 196 ms, sys: 40 ms, total: 236 ms\n",
      "Wall time: 3min 26s\n"
     ]
    }
   ],
   "source": [
    "%%time\n",
    "\n",
    "jan_df = spark.sql(\"select * from jantweetdata\")\n",
    "nosw = udf(remove_stopwords)\n",
    "spark.udf.register(\"nosw\", nosw)\n",
    "\n",
    "udfpolarity = udf(polarity_score)\n",
    "spark.udf.register(\"udfpolarity\", udfpolarity)\n",
    "\n",
    "# Select non null and convert to unixtime\n",
    "jan_df = jan_df.where(col(\"full_text\").isNotNull()) \\\n",
    "            .withColumnRenamed(\"full_text\", \"text\") \\\n",
    "            .withColumn('created_at', from_unixtime(unix_timestamp(col(\"created_at\"), \"EEE MMM dd HH:mm:ss ZZZZ \"), \"yyyy-MM-dd\"))\n",
    "\n",
    "# Remove stopwords\n",
    "jan_df = jan_df.withColumn('text', nosw('text'))\n",
    "# Get polarity of each column\n",
    "jan_df = jan_df.withColumn('polarity', udfpolarity(\"text\"))\n",
    "\n",
    "polairty_df = jan_df.select(\"id\", \"created_at\", \"coordinates\", \"geo\", \"place\", \"text\", \"polarity\")\n",
    "polairty_df.repartition(20).write.mode('overwrite').saveAsTable(\"janTweetsPolarity\")"
   ]
  },
  {
   "cell_type": "markdown",
   "metadata": {},
   "source": [
    "### Plot Mental Anxiety"
   ]
  },
  {
   "cell_type": "code",
   "execution_count": 18,
   "metadata": {},
   "outputs": [],
   "source": [
    "''' \n",
    "input : @ list of terms\n",
    "return df\n",
    "'''  \n",
    "def daily_polarity(table_name, terms):\n",
    "    terms_matcher = '(' + \"'\" + '|'.join(terms) + \"'\" + ')'\n",
    "    query = \"select created_at, count(*) as total_tweet, (sum(polarity)/count(*))*10 as sentiment from {} where text rlike {} group by created_at order by created_at asc\".format(table_name, terms_matcher)\n",
    "    return spark.sql(query)"
   ]
  },
  {
   "cell_type": "code",
   "execution_count": 19,
   "metadata": {},
   "outputs": [],
   "source": [
    "table_name = \"janTweetsPolarity\"\n",
    "mental_anxiety_file = \"mental_anxiety_terms.txt\"\n",
    "\n",
    "anxiety_terms = get_words_from_file(mental_anxiety_file)\n",
    "df = daily_polarity(table_name, anxiety_terms)"
   ]
  },
  {
   "cell_type": "code",
   "execution_count": 20,
   "metadata": {},
   "outputs": [
    {
     "data": {
      "text/plain": [
       "<matplotlib.axes._subplots.AxesSubplot at 0x7f9b02035590>"
      ]
     },
     "execution_count": 20,
     "metadata": {},
     "output_type": "execute_result"
    },
    {
     "data": {
      "image/png": "[encoded data removed]",
      "text/plain": [
       "<Figure size 432x288 with 1 Axes>"
      ]
     },
     "metadata": {
      "needs_background": "light"
     },
     "output_type": "display_data"
    }
   ],
   "source": [
    "df.toPandas()[\"sentiment\"].plot(title=\"Sentiment for March\", legend=False)"
   ]
  },
  {
   "cell_type": "code",
   "execution_count": 21,
   "metadata": {},
   "outputs": [
    {
     "data": {
      "text/plain": [
       "<matplotlib.axes._subplots.AxesSubplot at 0x7f9b028ee190>"
      ]
     },
     "execution_count": 21,
     "metadata": {},
     "output_type": "execute_result"
    },
    {
     "data": {
      "image/png": "[encoded data removed]",
      "text/plain": [
       "<Figure size 432x288 with 1 Axes>"
      ]
     },
     "metadata": {
      "needs_background": "light"
     },
     "output_type": "display_data"
    }
   ],
   "source": [
    "df.toPandas()[\"total_tweet\"].plot(title=\"Tweet Count of Anxiety terms for March\", legend=False)"
   ]
  },
  {
   "cell_type": "markdown",
   "metadata": {},
   "source": [
    "### Plot Outbreak "
   ]
  },
  {
   "cell_type": "code",
   "execution_count": 27,
   "metadata": {},
   "outputs": [],
   "source": [
    "table_name = \"janTweetsPolarity\"\n",
    "outbreak_file = \"outbreak_terms.txt\"\n",
    "\n",
    "outbreak_terms = get_words_from_file(outbreak_file)\n",
    "df = daily_polarity(table_name, outbreak_terms)"
   ]
  },
  {
   "cell_type": "code",
   "execution_count": null,
   "metadata": {},
   "outputs": [],
   "source": [
    "df.toPandas()[\"total_tweet\"].plot(title=\"Tweet Count of outbreak terms for March\", legend=False)"
   ]
  },
  {
   "cell_type": "code",
   "execution_count": null,
   "metadata": {},
   "outputs": [],
   "source": [
    "tweets = spark.sql(\"select * from janTweetsPolarity\")\n",
    "\n",
    "def plot_trend(chart_title, rolling_window=90):\n",
    "    trend_pdf = tweets.select('created_at', 'polarity','id')\\\n",
    "                            .groupby('created_at').agg({'polarity':'avg','id':'count'})\\\n",
    "                            .orderBy('created_at')\\\n",
    "                            .withColumnRenamed('avg(polarity)','polarity')\\\n",
    "                            .withColumnRenamed('count(id)','num_tweets')\\\n",
    "                            .toPandas()\n",
    "    print(trend_pdf.head(10)) \n",
    "    rolling_sentiment = trend_pdf.polarity.rolling(window=rolling_window).mean()\n",
    "    rolling_tweets = trend_pdf.num_tweets.rolling(window=rolling_window).mean()\n",
    "    print(rolling_sentiment.head(3))\n",
    "    print(rolling_tweets.head(3)) \n",
    "    fig, ax = plt.subplots(figsize=(10,4), sharex=True)\n",
    "    fig.suptitle('{}'.format(chart_title))\n",
    "    ax0 = plt.subplot(111)\n",
    "    ax1 = ax0.twinx()\n",
    "\n",
    "    ax0.plot(trend_pdf.created_at, rolling_sentiment, label='sentiment_ma')\n",
    "    ax0.legend(loc='upper left')\n",
    "    ax1.plot(trend_pdf.created_at, rolling_tweets, label='tweets_ma', c='k')\n",
    "    ax1.legend(loc='lower right');\n",
    "plot_trend(\"demo\", 3)"
   ]
  },
  {
   "cell_type": "code",
   "execution_count": null,
   "metadata": {},
   "outputs": [],
   "source": []
  },
  {
   "cell_type": "code",
   "execution_count": null,
   "metadata": {},
   "outputs": [],
   "source": []
  },
  {
   "cell_type": "code",
   "execution_count": null,
   "metadata": {},
   "outputs": [],
   "source": []
  },
  {
   "cell_type": "code",
   "execution_count": null,
   "metadata": {},
   "outputs": [],
   "source": [
    "# SNS experiments\n",
    "import seaborn as sns; \n",
    "sns.set()\n",
    "data = df.toPandas()\n",
    "# date = pd.to_datetime(df['event_date'])\n",
    "ax = sns.lineplot(data=data[\"total_tweet\"])"
   ]
  }
 ],
 "metadata": {
  "environment": {
   "name": "common-cpu.m48",
   "type": "gcloud",
   "uri": "gcr.io/deeplearning-platform-release/base-cpu:m48"
  },
  "kernelspec": {
   "display_name": "Python 3",
   "language": "python",
   "name": "python3"
  },
  "language_info": {
   "codemirror_mode": {
    "name": "ipython",
    "version": 3
   },
   "file_extension": ".py",
   "mimetype": "text/x-python",
   "name": "python",
   "nbconvert_exporter": "python",
   "pygments_lexer": "ipython3",
   "version": "3.7.6"
  }
 },
 "nbformat": 4,
 "nbformat_minor": 4
}
