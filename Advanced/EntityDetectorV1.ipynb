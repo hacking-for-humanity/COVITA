{
 "cells": [
  {
   "cell_type": "code",
   "execution_count": null,
   "metadata": {},
   "outputs": [],
   "source": [
    "import matplotlib.pyplot as plt\n",
    "import numpy as np"
   ]
  },
  {
   "cell_type": "markdown",
   "metadata": {},
   "source": [
    "## Extract Entities\n",
    "Some Examples \n",
    "https://catalog.ldc.upenn.edu/docs/LDC2013T19/OntoNotes-Release-5.0.pdf\n",
    "\n",
    "2.6 Entity Names Annotation\n",
    "Names (often referred to as “Named Entities”) are annotated according to the following\n",
    "set of types:\n",
    "PERSON People, including fictional\n",
    "NORP Nationalities or religious or political groups\n",
    "FACILITY Buildings, airports, highways, bridges, etc.\n",
    "ORGANIZATION Companies, agencies, institutions, etc.\n",
    "GPE Countries, cities, states\n",
    "LOCATION Non-GPE locations, mountain ranges, bodies of water\n",
    "PRODUCT Vehicles, weapons, foods, etc. (Not services)\n",
    "EVENT Named hurricanes, battles, wars, sports events, etc.\n",
    "WORK OF ART Titles of books, songs, etc.\n",
    "LAW Named documents made into laws \n",
    " OntoNotes Release 5.0\n",
    "22\n",
    "LANGUAGE Any named language\n",
    "The following values are also annotated in a style similar to names:\n",
    "DATE Absolute or relative dates or periods\n",
    "TIME Times smaller than a day\n",
    "PERCENT Percentage (including “%”)\n",
    "MONEY Monetary values, including unit\n",
    "QUANTITY Measurements, as of weight or distance\n",
    "ORDINAL “first”, “second”\n",
    "CARDINAL Numerals that do not fall under another typ"
   ]
  },
  {
   "cell_type": "code",
   "execution_count": 9,
   "metadata": {},
   "outputs": [
    {
     "name": "stdout",
     "output_type": "stream",
     "text": [
      "openjdk version \"1.8.0_252\"\n",
      "OpenJDK Runtime Environment (build 1.8.0_252-8u252-b09-1~deb9u1-b09)\n",
      "OpenJDK 64-Bit Server VM (build 25.252-b09, mixed mode)\n",
      "              total        used        free      shared  buff/cache   available\n",
      "Mem:             31           1          29           0           0          29\n",
      "Swap:             0           0           0\n"
     ]
    }
   ],
   "source": [
    "import os\n",
    "# Install java\n",
    "!java -version\n",
    "#! sudo apt-get install -y openjdk-8-jdk-headless -qq > /dev/null\n",
    "#os.environ[\"JAVA_HOME\"] = \"/usr/lib/jvm/java-8-openjdk-amd64\"\n",
    "#os.environ[\"PATH\"] = os.environ[\"JAVA_HOME\"] + \"/bin:\" + os.environ[\"PATH\"]\n",
    "!free -g"
   ]
  },
  {
   "cell_type": "code",
   "execution_count": 10,
   "metadata": {},
   "outputs": [
    {
     "name": "stdout",
     "output_type": "stream",
     "text": [
      "jupyter   2659  2549 64 04:01 ?        00:00:15 /usr/lib/jvm/java-8-openjdk-amd64/bin/java -cp /opt/conda/lib/python3.7/site-packages/pyspark/conf:/opt/conda/lib/python3.7/site-packages/pyspark/jars/* -Xmx24G org.apache.spark.deploy.SparkSubmit --conf spark.master=local[*] --conf spark.driver.memory=24G --conf spark.kryoserializer.buffer.max=2040M --conf spark.jars.packages=com.johnsnowlabs.nlp:spark-nlp_2.11:2.5.1 --conf spark.serializer=org.apache.spark.serializer.KryoSerializer --conf spark.app.name=Entity Analyzer --conf fs.AbstractFileSystem.gs.impl=com.google.cloud.hadoop.fs.gcs.GoogleHadoopFS --conf fs.gs.impl=com.google.cloud.hadoop.fs.gcs.GoogleHadoopFileSystem pyspark-shell\n",
      "jupyter   2813  2549  0 04:02 pts/4    00:00:00 /bin/sh -c ps -ef | grep spark\n",
      "jupyter   2815  2813  0 04:02 pts/4    00:00:00 grep spark\n"
     ]
    }
   ],
   "source": [
    "import sparknlp\n",
    "import json\n",
    "import os\n",
    "from pyspark.ml import Pipeline\n",
    "from pyspark.sql import SparkSession\n",
    "from sparknlp.annotator import *\n",
    "from sparknlp.base import *\n",
    "from pyspark.sql.functions import from_unixtime\n",
    "from pyspark.sql.functions import unix_timestamp\n",
    "from pyspark.sql.functions import *\n",
    "from pyspark.sql.window import Window\n",
    "from pyspark.ml.linalg import Vectors\n",
    "from pyspark.ml.feature import VectorAssembler, StandardScaler\n",
    "from pyspark.ml.stat import Correlation\n",
    "from pyspark.ml.clustering import BisectingKMeans\n",
    "from pyspark.ml.evaluation import ClusteringEvaluator\n",
    "from pyspark.ml import Pipeline\n",
    "from pyspark.ml.tuning import CrossValidator, ParamGridBuilder\n",
    "from pyspark.sql.functions import col, to_timestamp,date_format\n",
    "from pyspark import StorageLevel\n",
    "import pyspark.sql.functions as F\n",
    "from sparknlp.pretrained import PretrainedPipeline\n",
    "from collections import Counter\n",
    "from wordcloud import WordCloud\n",
    "from sparknlp.base import Finisher, DocumentAssembler\n",
    "from sparknlp.annotator import (Tokenizer, Normalizer,LemmatizerModel, StopWordsCleaner)\n",
    "from pyspark.ml import Pipeline\n",
    "import matplotlib.pyplot as plt\n",
    "import seaborn as sns\n",
    "\n",
    "def start():\n",
    "    builder = SparkSession.builder \\\n",
    "        .appName(\"Entity Analyzer\") \\\n",
    "        .master(\"local[*]\") \\\n",
    "        .config(\"spark.driver.memory\", \"24G\") \\\n",
    "        .config(\"spark.serializer\", \"org.apache.spark.serializer.KryoSerializer\") \\\n",
    "        .config(\"spark.kryoserializer.buffer.max\", \"2040M\") \\\n",
    "        .config(\"spark.jars.packages\", \"com.johnsnowlabs.nlp:spark-nlp_2.11:2.5.1\") \\\n",
    "        .config(\"fs.gs.impl\", \"com.google.cloud.hadoop.fs.gcs.GoogleHadoopFileSystem\") \\\n",
    "        .config(\"fs.AbstractFileSystem.gs.impl\", \"com.google.cloud.hadoop.fs.gcs.GoogleHadoopFS\")\n",
    "    return builder.getOrCreate()\n",
    "spark = start()\n",
    "spark.version\n",
    "!ps -ef | grep spark"
   ]
  },
  {
   "cell_type": "code",
   "execution_count": 11,
   "metadata": {},
   "outputs": [
    {
     "name": "stdout",
     "output_type": "stream",
     "text": [
      "jupyter   2659  2549 61 04:01 ?        00:00:15 /usr/lib/jvm/java-8-openjdk-amd64/bin/java -cp /opt/conda/lib/python3.7/site-packages/pyspark/conf:/opt/conda/lib/python3.7/site-packages/pyspark/jars/* -Xmx24G org.apache.spark.deploy.SparkSubmit --conf spark.master=local[*] --conf spark.driver.memory=24G --conf spark.kryoserializer.buffer.max=2040M --conf spark.jars.packages=com.johnsnowlabs.nlp:spark-nlp_2.11:2.5.1 --conf spark.serializer=org.apache.spark.serializer.KryoSerializer --conf spark.app.name=Entity Analyzer --conf fs.AbstractFileSystem.gs.impl=com.google.cloud.hadoop.fs.gcs.GoogleHadoopFS --conf fs.gs.impl=com.google.cloud.hadoop.fs.gcs.GoogleHadoopFileSystem pyspark-shell\n",
      "jupyter   2816  2549  0 04:02 pts/4    00:00:00 /bin/sh -c ps -ef | grep spark\n",
      "jupyter   2818  2816  0 04:02 pts/4    00:00:00 grep spark\n",
      "              total        used        free      shared  buff/cache   available\n",
      "Mem:             31           1          29           0           0          29\n",
      "Swap:             0           0           0\n"
     ]
    }
   ],
   "source": [
    "#spark.version\n",
    "!ps -ef | grep spark\n",
    "!free -g\n",
    "#!kill -9 23363"
   ]
  },
  {
   "cell_type": "code",
   "execution_count": null,
   "metadata": {},
   "outputs": [],
   "source": [
    "%%time\n",
    "#!pip install pybind11\n",
    "#!pip install nmslib\n",
    "!pip install scispacy spacy\n",
    "#!pip install googletrans\n",
    "#!pip install https://s3-us-west-2.amazonaws.com/ai2-s2-scispacy/releases/v0.2.4/en_ner_bc5cdr_md-0.2.4.tar.gz\n",
    "#!pip install pytextrank\n",
    "#!pip install https://s3-us-west-2.amazonaws.com/ai2-s2-scispacy/releases/v0.2.4/en_core_sci_sm-0.2.4.tar.gz\n",
    "#!pip install https://s3-us-west-2.amazonaws.com/ai2-s2-scispacy/releases/v0.2.4/en_core_sci_md-0.2.4.tar.gz\n",
    "#!pip install https://s3-us-west-2.amazonaws.com/ai2-s2-scispacy/releases/v0.2.4/en_core_web_sm-0.2.4.tar.gz\n",
    "!python3 -m spacy download en_core_web_sm    "
   ]
  },
  {
   "cell_type": "code",
   "execution_count": 77,
   "metadata": {},
   "outputs": [],
   "source": [
    "def find_custom_entity_sentiments(text_col, pos=['PROPN']):\n",
    "    \n",
    "    nlp = spacy.load('en_core_web_sm')\n",
    "    custom_people = {}\n",
    "    custom_organisations = {}\n",
    "    \n",
    "    persons = [('boris johnson','johnson'),('boris','johnson'),('johnson','johnson'),('prime minister','johnson'),\n",
    "               ('primeminister','johnson'),('matt','hancock'),('hancock','hancock'),('matt hancock','hancock'),\n",
    "               ('health secretary','hancock'),('deborah birx ','birx'),('deborah','birx'),('birx','birx'),\n",
    "              ('anthony stephen fauci','fauci'),('anthony fauci','fauci'),('POTUS','trump'),('trump','trump'),\n",
    "               ('president of united states','trump'),('donald trump','trump')]\n",
    "    orgs = [('nhs','nhs'),('cdc','cdc'),('who','who'),('world health organization','who'),('fda','fda'),\n",
    "            ('government','government')]\n",
    "    \n",
    "    ruler_persons = EntityRuler(nlp, overwrite_ents=True)\n",
    "    ruler_orgs = EntityRuler(nlp, overwrite_ents=True)\n",
    "\n",
    "    for (p,i) in persons:\n",
    "        ruler_persons.add_patterns([{\"label\": \"PERSON\", \"pattern\": [{\"LOWER\": p}], \"id\": i}])\n",
    "    for (o,i) in orgs:\n",
    "        ruler_orgs.add_patterns([{\"label\": \"ORG\", \"pattern\": [{\"LOWER\": o}], 'id': i}])\n",
    "\n",
    "    ruler = EntityRuler(nlp)\n",
    "    ruler.add_patterns(ruler_orgs.patterns)\n",
    "    ruler.add_patterns(ruler_persons.patterns)\n",
    "\n",
    "    nlp.add_pipe(ruler)\n",
    "    \n",
    "    named_persons = ''\n",
    "    named_orgs = ''\n",
    "    for parsed in tqdm(nlp.pipe(text_col, disable=['ner'])):\n",
    "        \n",
    "        doc_ = ''\n",
    "        for token in parsed:\n",
    "            if token.pos_ in pos:\n",
    "                doc_ += str(token) + ' '\n",
    "            else:\n",
    "                pass\n",
    "        doc_ = doc_.strip()\n",
    "                \n",
    "        polarity = analyser.polarity_scores(doc_)['compound']\n",
    "        if parsed.ents:\n",
    "            for ent in parsed.ents:\n",
    "                named_persons = ''\n",
    "                named_orgs = ''\n",
    "                if ent.label_ == 'PERSON':\n",
    "                    named_persons += ent.ent_id_ + ''\n",
    "                if ent.label_ == 'ORG':\n",
    "                    named_orgs += ent.ent_id_ + ''\n",
    "                else:\n",
    "                    pass\n",
    "        else:\n",
    "            named_persons = ''\n",
    "            named_orgs = ''\n",
    "\n",
    "        named_persons = named_persons.strip()\n",
    "        named_orgs = named_orgs.strip()\n",
    "        \n",
    "        if (named_persons != ''):\n",
    "            custom_people[named_persons] = custom_people.get(named_persons, 0) + polarity\n",
    "            #custom_people[named_persons] /= len(custom_people)\n",
    "        if (named_orgs != ''):    \n",
    "            custom_organisations[named_orgs] = custom_organisations.get(named_orgs, 0) + polarity\n",
    "            #custom_organisations[named_orgs] /= len(custom_organisations)  \n",
    "        \n",
    "    return custom_people,custom_organisations"
   ]
  },
  {
   "cell_type": "code",
   "execution_count": 12,
   "metadata": {},
   "outputs": [],
   "source": [
    "#!pip install spacy\n",
    "import pyspark.sql.types as t\n",
    "import pyspark.sql.functions as f\n",
    "import spacy\n",
    "from spacy.lang.en import English\n",
    "from spacy.pipeline import EntityRuler\n",
    "import re\n",
    "import scispacy\n",
    "from scispacy.abbreviation import AbbreviationDetector\n",
    "from scispacy.umls_linking import UmlsEntityLinker\n",
    "import en_core_web_sm\n",
    "from tqdm.notebook import tqdm\n",
    "import sys\n",
    "import time\n",
    "import glob\n",
    "\n",
    "def find_custom_entities(text_col, pos=['PROPN']):\n",
    "    \n",
    "    nlp = spacy.load('en_core_web_sm')\n",
    "    custom_people = {}\n",
    "    custom_organisations = {}\n",
    "    \n",
    "    persons = [('boris johnson','johnson'),('boris','johnson'),('johnson','johnson'),('prime minister','johnson'),\n",
    "               ('primeminister','johnson'),('matt','hancock'),('hancock','hancock'),('matt hancock','hancock'),\n",
    "               ('health secretary','hancock'),('deborah birx ','birx'),('deborah','birx'),('birx','birx'),\n",
    "              ('anthony stephen fauci','fauci'),('anthony fauci','fauci'),('POTUS','trump'),('president of united states','trump'),('Donald Trump','trump')]\n",
    "    orgs = [('nhs','nhs'),('cdc','cdc'),('who','who'),('world health organization','who'),('fda','fda'),('government','government')]\n",
    "    \n",
    "    ruler_persons = EntityRuler(nlp, overwrite_ents=True)\n",
    "    ruler_orgs = EntityRuler(nlp, overwrite_ents=True)\n",
    "\n",
    "    for (p,i) in persons:\n",
    "        ruler_persons.add_patterns([{\"label\": \"PERSON\", \"pattern\": [{\"LOWER\": p}], \"id\": i}])\n",
    "    for (o,i) in orgs:\n",
    "        ruler_orgs.add_patterns([{\"label\": \"ORG\", \"pattern\": [{\"LOWER\": o}], 'id': i}])\n",
    "\n",
    "    ruler = EntityRuler(nlp)\n",
    "    ruler.add_patterns(ruler_orgs.patterns)\n",
    "    ruler.add_patterns(ruler_persons.patterns)\n",
    "\n",
    "    nlp.add_pipe(ruler)\n",
    "    \n",
    "    named_persons = ''\n",
    "    named_orgs = ''\n",
    "    for parsed in tqdm(nlp.pipe(text_col, disable=['ner'])):\n",
    "        if parsed.ents:\n",
    "            for ent in parsed.ents:\n",
    "                named_persons = ''\n",
    "                named_orgs = ''\n",
    "                if ent.label_ == 'PERSON':\n",
    "                    named_persons += ent.ent_id_ + ''\n",
    "                if ent.label_ == 'ORG':\n",
    "                    named_orgs += ent.ent_id_ + ''\n",
    "                else:\n",
    "                    pass\n",
    "        else:\n",
    "            named_persons = ''\n",
    "            named_orgs = ''\n",
    "\n",
    "        named_persons = named_persons.strip()\n",
    "        named_orgs = named_orgs.strip()\n",
    "        \n",
    "        if (named_persons != ''):\n",
    "            custom_people[named_persons] = custom_people.get(named_persons, 0) + 1\n",
    "        if (named_orgs != ''):    \n",
    "            custom_organisations[named_orgs] = custom_organisations.get(named_orgs, 0) + 1\n",
    "            \n",
    "    return custom_people,custom_organisations"
   ]
  },
  {
   "cell_type": "code",
   "execution_count": 13,
   "metadata": {},
   "outputs": [
    {
     "name": "stdout",
     "output_type": "stream",
     "text": [
      "Requirement already satisfied: vaderSentiment in /opt/conda/lib/python3.7/site-packages (3.3.2)\n",
      "Requirement already satisfied: requests in /opt/conda/lib/python3.7/site-packages (from vaderSentiment) (2.23.0)\n",
      "Requirement already satisfied: idna<3,>=2.5 in /opt/conda/lib/python3.7/site-packages (from requests->vaderSentiment) (2.9)\n",
      "Requirement already satisfied: urllib3!=1.25.0,!=1.25.1,<1.26,>=1.21.1 in /opt/conda/lib/python3.7/site-packages (from requests->vaderSentiment) (1.25.9)\n",
      "Requirement already satisfied: certifi>=2017.4.17 in /opt/conda/lib/python3.7/site-packages (from requests->vaderSentiment) (2020.4.5.1)\n",
      "Requirement already satisfied: chardet<4,>=3.0.2 in /opt/conda/lib/python3.7/site-packages (from requests->vaderSentiment) (3.0.4)\n"
     ]
    },
    {
     "name": "stderr",
     "output_type": "stream",
     "text": [
      "[nltk_data] Downloading package stopwords to\n",
      "[nltk_data]     /home/jupyter/nltk_data...\n",
      "[nltk_data]   Package stopwords is already up-to-date!\n"
     ]
    }
   ],
   "source": [
    "!pip install vaderSentiment\n",
    "import sparknlp\n",
    "import json\n",
    "import os\n",
    "from sparknlp.annotator import *\n",
    "from sparknlp.base import *\n",
    "from pyspark.sql.functions import from_unixtime\n",
    "from pyspark.sql.functions import unix_timestamp\n",
    "from pyspark.sql.functions import *\n",
    "from pyspark.sql.functions import explode, col\n",
    "from pyspark.sql.functions import from_unixtime, to_date, asc, year, udf, explode, split, col, desc, length, rank, dense_rank, avg, sum\n",
    "\n",
    "from vaderSentiment.vaderSentiment import SentimentIntensityAnalyzer\n",
    "analyser = SentimentIntensityAnalyzer()\n",
    "\n",
    "def calc_polarity(text):    \n",
    "    return analyser.polarity_scores(text)['compound']\n",
    "    \n",
    "#calc_polarity = udf(calc_polarity)\n",
    "#spark.udf.register(\"calc_polarity\", calc_polarity)\n",
    "\n",
    "import json\n",
    "import seaborn as sns\n",
    "import nltk\n",
    "from nltk.corpus import stopwords\n",
    "\n",
    "nltk.download('stopwords')\n",
    "eng_stopwords = stopwords.words('english')\n",
    "\n",
    "def remove_stopwords(x):    \n",
    "    sw = stopwords.words(\"english\")\n",
    "    string = ''\n",
    "    for x in x.split(' '):\n",
    "        if x.lower() not in sw:\n",
    "            string += x + ' '\n",
    "        else:\n",
    "            pass\n",
    "    return string\n",
    "\n",
    "#nosw = udf(remove_stopwords)\n",
    "#spark.udf.register(\"nosw\", nosw)"
   ]
  },
  {
   "cell_type": "code",
   "execution_count": 14,
   "metadata": {},
   "outputs": [
    {
     "name": "stdout",
     "output_type": "stream",
     "text": [
      "lemma_antbnc download started this may take some time.\n",
      "Approximate size to download 907.6 KB\n",
      "[OK!]\n"
     ]
    }
   ],
   "source": [
    "from sparknlp.base import Finisher, DocumentAssembler\n",
    "from sparknlp.annotator import (Tokenizer, Normalizer,LemmatizerModel, StopWordsCleaner)\n",
    "from pyspark.ml import Pipeline\n",
    "documentAssembler = DocumentAssembler() \\\n",
    "    .setInputCol('text') \\\n",
    "    .setOutputCol('document')\n",
    "\n",
    "tokenizer = Tokenizer() \\\n",
    "    .setInputCols(['document']) \\\n",
    "    .setOutputCol('token')\n",
    "\n",
    "# note normalizer defaults to changing all words to lowercase.\n",
    "# Use .setLowercase(False) to maintain input case.\n",
    "normalizer = Normalizer() \\\n",
    "    .setInputCols(['token']) \\\n",
    "    .setOutputCol('normalized') \\\n",
    "    .setLowercase(True)\n",
    "\n",
    "# note that lemmatizer needs a dictionary. So I used the pre-trained\n",
    "# model (note that it defaults to english)\n",
    "lemmatizer = LemmatizerModel.pretrained() \\\n",
    "    .setInputCols(['normalized']) \\\n",
    "    .setOutputCol('lemma') \\\n",
    "\n",
    "stopwords_cleaner = StopWordsCleaner() \\\n",
    "    .setInputCols(['lemma']) \\\n",
    "    .setOutputCol('clean_lemma') \\\n",
    "    .setCaseSensitive(False) \\\n",
    "    .setStopWords(eng_stopwords) \n",
    "\n",
    "#eng_stopwords\n",
    "\n",
    "# finisher converts tokens to human-readable output\n",
    "finisher = Finisher() \\\n",
    "    .setInputCols(['clean_lemma']) \\\n",
    "    .setCleanAnnotations(False)\n",
    "\n",
    "pipeline = Pipeline() \\\n",
    "    .setStages([\n",
    "        documentAssembler,\n",
    "        tokenizer,\n",
    "        normalizer,\n",
    "        lemmatizer,\n",
    "        stopwords_cleaner,\n",
    "        finisher\n",
    "    ])"
   ]
  },
  {
   "cell_type": "code",
   "execution_count": 15,
   "metadata": {},
   "outputs": [],
   "source": [
    "#!gsutil ls 'gs://covid19-tweets/2020-04/'\n",
    "parquetFile1 = spark.read.parquet(\"parquetFile1.parquet\")"
   ]
  },
  {
   "cell_type": "code",
   "execution_count": null,
   "metadata": {},
   "outputs": [],
   "source": [
    "spark.conf.set(\"spark.sql.files.ignoreCorruptFiles\", \"true\")\n",
    "spark.conf.set(\"spark.sql.legacy.allowCreatingManagedTableUsingNonemptyLocation\",\"true\")\n",
    "spark.conf.set(\"spark.sql.execution.arrow.fallback.enabled\",\"true\")\n",
    "import numpy as np\n",
    "import pandas as pd\n",
    "\n",
    "#df1 = spark.read.format(\"json\").load(\"gs://covid19-tweets/2020-03/*.gz\")\n",
    "#df2 = spark.read.format(\"json\").load( \"gs://covid19-tweets/2020-04/*.gz\")\n",
    "\n",
    "dfTest = parquetFile1.where(col(\"full_text\").isNotNull()).withColumnRenamed('full_text','text').select(\"text\")\n",
    "dfTest.createOrReplaceTempView(\"entityView1\")\n",
    "dfTest = spark.sql(\"\"\" select * from entityView1\"\"\")\n",
    "cleanDF = pipeline.fit(dfTest).transform(dfTest) \n",
    "\n",
    "cleanDF.show(10)"
   ]
  },
  {
   "cell_type": "code",
   "execution_count": 19,
   "metadata": {},
   "outputs": [
    {
     "name": "stdout",
     "output_type": "stream",
     "text": [
      "Done Saving Data\n",
      "+--------------------+\n",
      "|                text|\n",
      "+--------------------+\n",
      "|[rt, chhr, q, pos...|\n",
      "|[rt, dalebolsonar...|\n",
      "+--------------------+\n",
      "only showing top 2 rows\n",
      "\n"
     ]
    }
   ],
   "source": [
    "cleanDF.select(\"finished_clean_lemma\").repartition(20).write.save(\"parquetFile4.parquet\")\n",
    "print('Done Saving Data')\n",
    "parquetFile2 = spark.read.parquet(\"parquetFile4.parquet\")\n",
    "parquetFile2.createOrReplaceTempView(\"entityView2\")\n",
    "fastDF = spark.sql(\"\"\"select finished_clean_lemma as text from entityView2\"\"\")\n",
    "fastDF.show(2)"
   ]
  },
  {
   "cell_type": "code",
   "execution_count": null,
   "metadata": {},
   "outputs": [],
   "source": [
    "fastDF = spark.sql(\"\"\"select explode(finished_clean_lemma) as text from entityView2\"\"\")\n",
    "fastDF.show(20)"
   ]
  },
  {
   "cell_type": "code",
   "execution_count": 23,
   "metadata": {},
   "outputs": [
    {
     "data": {
      "application/vnd.jupyter.widget-view+json": {
       "model_id": "aa7e05d1b2764f8f91b1b6543fc959da",
       "version_major": 2,
       "version_minor": 0
      },
      "text/plain": [
       "HBox(children=(FloatProgress(value=1.0, bar_style='info', max=1.0), HTML(value='')))"
      ]
     },
     "metadata": {},
     "output_type": "display_data"
    },
    {
     "name": "stdout",
     "output_type": "stream",
     "text": [
      "\n"
     ]
    }
   ],
   "source": [
    "pdf = fastDF.toPandas()\n",
    "people,organisations = find_custom_entities(pdf['text'])"
   ]
  },
  {
   "cell_type": "code",
   "execution_count": null,
   "metadata": {},
   "outputs": [],
   "source": [
    "#dfTest.count()\n",
    "import pandas as pd\n",
    "df1 = pd.DataFrame(list(people.items()),columns = ['person','count'])\n",
    "df1 = df1.sort_values('count',ascending = False)\n",
    "print (df1)\n",
    "df1.plot(kind='bar')\n",
    "\n",
    "df2 = pd.DataFrame(list(organisations.items()),columns = ['org','count'])\n",
    "df2 = df2.sort_values('count',ascending = False)\n",
    "print (df2)\n",
    "df2.plot(kind='bar')"
   ]
  },
  {
   "cell_type": "code",
   "execution_count": 38,
   "metadata": {},
   "outputs": [],
   "source": [
    "#dfTest.count()\n",
    "pdf2 = dfTest.toPandas()"
   ]
  },
  {
   "cell_type": "code",
   "execution_count": 83,
   "metadata": {},
   "outputs": [
    {
     "data": {
      "application/vnd.jupyter.widget-view+json": {
       "model_id": "64edfef4dff4415d92038ec113a529a7",
       "version_major": 2,
       "version_minor": 0
      },
      "text/plain": [
       "HBox(children=(FloatProgress(value=1.0, bar_style='info', max=1.0), HTML(value='')))"
      ]
     },
     "metadata": {},
     "output_type": "display_data"
    },
    {
     "name": "stdout",
     "output_type": "stream",
     "text": [
      "\n"
     ]
    }
   ],
   "source": [
    "persons_sentiment_v2,orgs_sentiment_v2 = find_custom_entity_sentiments(pdf2.sample(800000)['text'])"
   ]
  },
  {
   "cell_type": "code",
   "execution_count": 103,
   "metadata": {},
   "outputs": [
    {
     "name": "stdout",
     "output_type": "stream",
     "text": [
      "    person     count\n",
      "0    trump -126.7111\n",
      "3     birx  -12.9179\n",
      "2  hancock   -7.3268\n",
      "1  johnson   -2.3247\n"
     ]
    },
    {
     "data": {
      "text/plain": [
       "<matplotlib.axes._subplots.AxesSubplot at 0x7f5444bd7290>"
      ]
     },
     "execution_count": 103,
     "metadata": {},
     "output_type": "execute_result"
    },
    {
     "data": {
      "image/png": "[encoded data removed]",
      "text/plain": [
       "<Figure size 432x288 with 1 Axes>"
      ]
     },
     "metadata": {
      "needs_background": "light"
     },
     "output_type": "display_data"
    }
   ],
   "source": [
    "dfa = pd.DataFrame(list(persons_sentiment_v2.items()),columns = ['person','count'])\n",
    "dfa = dfa.sort_values('count',ascending = True)\n",
    "print (dfa)\n",
    "dfa.plot(kind='bar')"
   ]
  },
  {
   "cell_type": "code",
   "execution_count": 104,
   "metadata": {},
   "outputs": [
    {
     "name": "stdout",
     "output_type": "stream",
     "text": [
      "          org     count\n",
      "2         who  618.7265\n",
      "0  government  118.5657\n",
      "1         nhs   72.9029\n",
      "3         cdc   -1.8540\n",
      "4         fda   -3.0997\n"
     ]
    },
    {
     "data": {
      "text/plain": [
       "<matplotlib.axes._subplots.AxesSubplot at 0x7f5443c4da50>"
      ]
     },
     "execution_count": 104,
     "metadata": {},
     "output_type": "execute_result"
    },
    {
     "data": {
      "image/png": "[encoded data removed]",
      "text/plain": [
       "<Figure size 432x288 with 1 Axes>"
      ]
     },
     "metadata": {
      "needs_background": "light"
     },
     "output_type": "display_data"
    }
   ],
   "source": [
    "dfb = pd.DataFrame(list(orgs_sentiment_v2.items()),columns = ['org','count'])\n",
    "dfb = dfb.sort_values('count',ascending = False)\n",
    "print (dfb)\n",
    "dfb.plot(kind='bar')"
   ]
  },
  {
   "cell_type": "code",
   "execution_count": 96,
   "metadata": {},
   "outputs": [
    {
     "data": {
      "application/vnd.jupyter.widget-view+json": {
       "model_id": "432a57a16c2b4beea36cf4e8d277aae1",
       "version_major": 2,
       "version_minor": 0
      },
      "text/plain": [
       "HBox(children=(FloatProgress(value=1.0, bar_style='info', max=1.0), HTML(value='')))"
      ]
     },
     "metadata": {},
     "output_type": "display_data"
    },
    {
     "name": "stdout",
     "output_type": "stream",
     "text": [
      "\n"
     ]
    }
   ],
   "source": [
    "persons_sentiment,orgs_sentiment = find_custom_entity_sentiments(pdf.sample(500000)['text'])"
   ]
  },
  {
   "cell_type": "code",
   "execution_count": 98,
   "metadata": {},
   "outputs": [
    {
     "name": "stdout",
     "output_type": "stream",
     "text": [
      "    person  count\n",
      "0  johnson   1194\n",
      "2  hancock   1135\n",
      "1     birx   1045\n"
     ]
    },
    {
     "data": {
      "text/plain": [
       "<matplotlib.axes._subplots.AxesSubplot at 0x7f5482146390>"
      ]
     },
     "execution_count": 98,
     "metadata": {},
     "output_type": "execute_result"
    },
    {
     "data": {
      "image/png": "[encoded data removed]",
      "text/plain": [
       "<Figure size 432x288 with 1 Axes>"
      ]
     },
     "metadata": {
      "needs_background": "light"
     },
     "output_type": "display_data"
    }
   ],
   "source": [
    "df3 = pd.DataFrame(list(persons_sentiment.items()),columns = ['person','count'])\n",
    "df3 = df1.sort_values('count',ascending = False)\n",
    "print (df3)\n",
    "df3.plot(kind='bar')\n"
   ]
  },
  {
   "cell_type": "code",
   "execution_count": 66,
   "metadata": {},
   "outputs": [
    {
     "data": {
      "application/vnd.jupyter.widget-view+json": {
       "model_id": "23b179f897d14eb0b600a31be2ff9e5f",
       "version_major": 2,
       "version_minor": 0
      },
      "text/plain": [
       "HBox(children=(FloatProgress(value=1.0, bar_style='info', max=1.0), HTML(value='')))"
      ]
     },
     "metadata": {},
     "output_type": "display_data"
    },
    {
     "name": "stdout",
     "output_type": "stream",
     "text": [
      "\n"
     ]
    }
   ],
   "source": [
    "peopleFreqn,organisationFreqn,nationalgroupFreqn,eventFreqn, facilityFreqn , productFreqn,locationFreqn = find_entity_count(pdf['text'])\n"
   ]
  },
  {
   "cell_type": "code",
   "execution_count": null,
   "metadata": {},
   "outputs": [],
   "source": [
    "df4 = pd.DataFrame(list(organisationFreqn.items()),columns = ['org','count'])\n",
    "df4 = df4.sort_values('count',ascending = False).head(10)\n",
    "print (df4)"
   ]
  },
  {
   "cell_type": "code",
   "execution_count": 69,
   "metadata": {},
   "outputs": [
    {
     "data": {
      "application/vnd.jupyter.widget-view+json": {
       "model_id": "b1ea2787f2104465b37a00198688e056",
       "version_major": 2,
       "version_minor": 0
      },
      "text/plain": [
       "HBox(children=(FloatProgress(value=1.0, bar_style='info', max=1.0), HTML(value='')))"
      ]
     },
     "metadata": {},
     "output_type": "display_data"
    },
    {
     "name": "stdout",
     "output_type": "stream",
     "text": [
      "\n"
     ]
    }
   ],
   "source": [
    "peoplePolarity,organisationsPolarity,nationalgroupsPolarity,eventsPolarity, facilitiesPolarity , productsPolarity,locationsPolarity = find_entity_polarity(pdf['text'])"
   ]
  },
  {
   "cell_type": "code",
   "execution_count": null,
   "metadata": {},
   "outputs": [],
   "source": []
  },
  {
   "cell_type": "code",
   "execution_count": null,
   "metadata": {},
   "outputs": [],
   "source": [
    "df2 = DataFrame(list(peopleFreqn.items()),columns = ['person','count'])\n",
    "df3 = df2.sort_values('count',ascending = False).head(10)\n",
    "print (df3)\n",
    "\n",
    "personPlot1 = df3.plot(kind='bar')"
   ]
  },
  {
   "cell_type": "code",
   "execution_count": null,
   "metadata": {},
   "outputs": [],
   "source": [
    "df2 = DataFrame(list(organisationsFreqn.items()),columns = ['org','count'])\n",
    "df3 = df2.sort_values('count',ascending = False).head(20)\n",
    "print (df3)\n",
    "\n",
    "organisationsPlot1 = df3.plot(kind='bar')"
   ]
  },
  {
   "cell_type": "code",
   "execution_count": null,
   "metadata": {},
   "outputs": [],
   "source": [
    "df2 = DataFrame(list(nationalgroupsFreqn.items()),columns = ['group','count'])\n",
    "df3 = df2.sort_values('count',ascending = False).head(10)\n",
    "print (df3)\n",
    "nationalgroupsPlot1 = df3.plot(kind='bar')"
   ]
  },
  {
   "cell_type": "code",
   "execution_count": null,
   "metadata": {},
   "outputs": [],
   "source": [
    "peoplePolarity,organisationsPolarity,nationalgroupsPolarity,eventsPolarity, facilitiesPolarity , productsPolarity,locationsPolarity = find_entity_polarity(pdf['text'])"
   ]
  },
  {
   "cell_type": "code",
   "execution_count": null,
   "metadata": {},
   "outputs": [],
   "source": [
    "#topPeopleWithPositiveEffect = sorted(peoplePolarity.items(),key=operator.itemgetter(1),reverse=True)\n",
    "from pandas import DataFrame\n",
    "df = DataFrame(list(peoplePolarity.items()),columns = ['person','polarity'])\n",
    "df1 = df.sort_values('polarity',ascending = False).head(20)\n",
    "print (df1)\n",
    "\n",
    "personPlot = df1.plot(kind='bar')"
   ]
  },
  {
   "cell_type": "code",
   "execution_count": null,
   "metadata": {},
   "outputs": [],
   "source": [
    "df = DataFrame(list(peoplePolarity.items()),columns = ['person','polarity'])\n",
    "df1 = df.sort_values('polarity',ascending = True).head(20)\n",
    "print (df1)\n",
    "\n",
    "personPlot = df1.plot(kind='bar')"
   ]
  },
  {
   "cell_type": "code",
   "execution_count": null,
   "metadata": {},
   "outputs": [],
   "source": [
    "df = DataFrame(list(locationsPolarity.items()),columns = ['location','polarity'])\n",
    "df1 = df.sort_values('polarity',ascending = True).head(20)\n",
    "print (df1)\n",
    "\n",
    "locationPlot = df1.plot(kind='bar')"
   ]
  },
  {
   "cell_type": "code",
   "execution_count": null,
   "metadata": {},
   "outputs": [],
   "source": [
    "from pandas import DataFrame\n",
    "df = DataFrame(list(organisationsPolarity.items()),columns = ['org','polarity'])\n",
    "df1 = df.sort_values('polarity',ascending = False).head(20)\n",
    "print (df1)\n",
    "\n",
    "personPlot = df1.plot(kind='bar')"
   ]
  },
  {
   "cell_type": "code",
   "execution_count": null,
   "metadata": {},
   "outputs": [],
   "source": [
    "from pandas import DataFrame\n",
    "df = DataFrame(list(organisationsPolarity.items()),columns = ['org','polarity'])\n",
    "df1 = df.sort_values('polarity',ascending = True).head(20)\n",
    "print (df1)\n",
    "\n",
    "personPlot = df1.plot(kind='bar')"
   ]
  },
  {
   "cell_type": "code",
   "execution_count": null,
   "metadata": {},
   "outputs": [],
   "source": [
    "#!pip install jupyterlab\n",
    "#!pip install ipympl\n",
    "#!curl -sL https://deb.nodesource.com/setup_12.x | bash -\n",
    "#!apt install nodejs\n",
    "#!jupyter labextension install @jupyter-widgets/jupyterlab-manager\n",
    "#!jupyter labextension install jupyter-matplotlib\n",
    "\n",
    "\n",
    "#!jupyter labextension update --all \n",
    "#!jupyter lab build \n",
    "#!jupyter nbextension list\n",
    "#!jupyter labextension list\n"
   ]
  },
  {
   "cell_type": "code",
   "execution_count": null,
   "metadata": {},
   "outputs": [],
   "source": [
    "#%matplotib inline\n",
    "#%pylab inline\n",
    "\n",
    "import matplotlib.pyplot as plt\n",
    "import numpy as np\n",
    "import pylab as p\n",
    "\n",
    "keys = peopleFreqn.keys()\n",
    "vals = peopleFreqn.values()\n",
    "\n",
    "plt.bar(keys, vals, label=\"Real distribution\")\n",
    "\n",
    "plt.ylim(0,1)\n",
    "plt.ylabel ('Count')\n",
    "plt.xlabel ('Persons')\n",
    "plt.xticks(list(keys))\n",
    "plt.legend (bbox_to_anchor=(1, 1), loc=\"upper right\", borderaxespad=0.)\n",
    "\n",
    "plt.show()\n",
    "#plt.ion()"
   ]
  },
  {
   "cell_type": "code",
   "execution_count": null,
   "metadata": {},
   "outputs": [],
   "source": [
    "!free -g\n",
    "!ps -ef | grep spark\n",
    "#spark.sql(\"\"\"DROP VIEW IF EXISTS entityView1\"\"\")"
   ]
  },
  {
   "cell_type": "code",
   "execution_count": null,
   "metadata": {},
   "outputs": [],
   "source": [
    "# Testing matplotlib interactions with a simple plot\n",
    "fig = plt.figure()\n",
    "plt.plot(np.sin(np.linspace(0, 20, 100)));"
   ]
  },
  {
   "cell_type": "code",
   "execution_count": null,
   "metadata": {},
   "outputs": [],
   "source": [
    "fig.canvas.toolbar_visible = False\n",
    "fig.canvas.header_visible = False\n",
    "fig.canvas.footer_visible = False\n",
    "fig.canvas.resizable = False\n",
    "fig.canvas"
   ]
  },
  {
   "cell_type": "code",
   "execution_count": 64,
   "metadata": {},
   "outputs": [],
   "source": [
    "def find_entity_count(text_col, pos=['PROPN']):\n",
    "    nlp = spacy.load('en_core_web_sm')\n",
    "    #nlp = en_core_web_sm.load()\n",
    "    #tokens = []\n",
    "    \n",
    "    people = {}\n",
    "    organisations = {}\n",
    "    nationalgroups={}\n",
    "    events={}\n",
    "    facilities={}\n",
    "    products={}\n",
    "    locations={}\n",
    "    \n",
    "    named_persons = ''\n",
    "    named_orgs = ''\n",
    "    named_groups = ''\n",
    "    named_events = ''\n",
    "    named_facilities = ''\n",
    "    named_products = ''\n",
    "    named_locations = ''\n",
    "\n",
    "    for parsed in tqdm(nlp.pipe(text_col)):\n",
    "        doc_ = ''\n",
    "        for token in parsed:\n",
    "            if token.pos_ in pos:\n",
    "                doc_ += str(token) + ' '\n",
    "            else:\n",
    "                pass\n",
    "        doc_ = doc_.strip()\n",
    "\n",
    "        #tokens.append(doc_)\n",
    "\n",
    "        if parsed.ents:\n",
    "            for ent in parsed.ents:\n",
    "                named_persons = ''\n",
    "                named_orgs = ''\n",
    "                named_groups = ''\n",
    "                named_events = ''\n",
    "                named_facilities = ''\n",
    "                named_products = ''\n",
    "                named_locations = ''\n",
    "                \n",
    "                if ent.label_ == 'PERSON':\n",
    "                    named_persons += ent.text + ''\n",
    "                if ent.label_ == 'ORG':\n",
    "                    named_orgs += ent.text + ''\n",
    "                if ent.label_ == 'NORP':\n",
    "                    named_groups += ent.text + ''\n",
    "                if ent.label_ == 'EVENT':\n",
    "                    named_events += ent.text + ''\n",
    "                if ent.label_ == 'FACILITY':\n",
    "                    named_facilities += ent.text + ''\n",
    "                if ent.label_ == 'PRODUCT':\n",
    "                    named_products += ent.text + ''  \n",
    "                if ent.label_ == 'GPE':\n",
    "                    named_locations += ent.text + ''    \n",
    "                else:\n",
    "                    pass\n",
    "        else:\n",
    "            named_persons = ''\n",
    "            named_orgs = ''\n",
    "            named_groups = ''\n",
    "            named_events = ''\n",
    "            named_facilities = ''\n",
    "            named_products = ''\n",
    "            named_locations = ''\n",
    "        \n",
    "        named_persons = named_persons.strip()\n",
    "        named_orgs = named_orgs.strip()\n",
    "        named_events = named_events.strip()\n",
    "        named_groups = named_groups.strip()\n",
    "        named_facilities = named_facilities.strip()\n",
    "        named_products = named_products.strip()\n",
    "        named_locations = named_locations.strip()\n",
    "        \n",
    "        if (named_persons != ''):\n",
    "            people[named_persons] = people.get(named_persons, 0) + 1\n",
    "        if (named_orgs != ''):    \n",
    "            organisations[named_orgs] = organisations.get(named_orgs, 0) + 1\n",
    "        if (named_groups != ''):    \n",
    "            nationalgroups[named_groups] = nationalgroups.get(named_groups, 0) + 1\n",
    "        if (named_events != ''):\n",
    "            events[named_events] = events.get(named_events, 0) + 1\n",
    "        if (named_facilities != ''):\n",
    "            facilities[named_facilities] = facilities.get(named_facilities, 0) + 1\n",
    "        if (named_products != ''):\n",
    "            products[named_products] = products.get(named_products, 0) + 1\n",
    "        if (named_locations != ''):\n",
    "            locations[named_locations] = locations.get(named_locations, 0) + 1   \n",
    "    \n",
    "    return people,organisations,nationalgroups,events, facilities , products,locations"
   ]
  },
  {
   "cell_type": "code",
   "execution_count": 68,
   "metadata": {},
   "outputs": [],
   "source": [
    "# Sentiment Analysis for Topic\n",
    "from vaderSentiment.vaderSentiment import SentimentIntensityAnalyzer\n",
    "analyzer = SentimentIntensityAnalyzer() \n",
    "    \n",
    "def find_entity_polarity(text_col, pos=['PROPN']):\n",
    "    nlp = spacy.load('en_core_web_sm')\n",
    "    #nlp = en_core_web_sm.load()\n",
    "    #tokens = []\n",
    "    \n",
    "    people = {}\n",
    "    organisations = {}\n",
    "    nationalgroups={}\n",
    "    events={}\n",
    "    facilities={}\n",
    "    products={}\n",
    "    locations={}\n",
    "    \n",
    "    named_persons = ''\n",
    "    named_orgs = ''\n",
    "    named_groups = ''\n",
    "    named_events = ''\n",
    "    named_facilities = ''\n",
    "    named_products = ''\n",
    "    named_locations = ''\n",
    "    \n",
    "    for parsed in tqdm(nlp.pipe(text_col)):\n",
    "        \n",
    "        doc_ = ''\n",
    "        for token in parsed:\n",
    "            if token.pos_ in pos:\n",
    "                doc_ += str(token) + ' '\n",
    "            else:\n",
    "                pass\n",
    "        doc_ = doc_.strip()\n",
    "        \n",
    "        vader_score = analyzer.polarity_scores(doc_)['compound']\n",
    "\n",
    "        #tokens.append(doc_)\n",
    "\n",
    "        if parsed.ents:\n",
    "            for ent in parsed.ents:\n",
    "                named_persons = ''\n",
    "                named_orgs = ''\n",
    "                named_groups = ''\n",
    "                named_events = ''\n",
    "                named_facilities = ''\n",
    "                named_products = ''\n",
    "                named_locations = ''\n",
    "                \n",
    "                if ent.label_ == 'PERSON':\n",
    "                    named_persons += ent.text + ''\n",
    "                if ent.label_ == 'ORG':\n",
    "                    named_orgs += ent.text + ''\n",
    "                if ent.label_ == 'NORP':\n",
    "                    named_groups += ent.text + ''\n",
    "                if ent.label_ == 'EVENT':\n",
    "                    named_events += ent.text + ''\n",
    "                if ent.label_ == 'FACILITY':\n",
    "                    named_facilities += ent.text + ''\n",
    "                if ent.label_ == 'PRODUCT':\n",
    "                    named_products += ent.text + ''  \n",
    "                if ent.label_ == 'GPE':\n",
    "                    named_locations += ent.text + ''    \n",
    "                else:\n",
    "                    pass\n",
    "        else:\n",
    "            named_persons = ''\n",
    "            named_orgs = ''\n",
    "            named_groups = ''\n",
    "            named_events = ''\n",
    "            named_facilities = ''\n",
    "            named_products = ''\n",
    "            named_locations = ''\n",
    "        \n",
    "        named_persons = named_persons.strip()\n",
    "        named_orgs = named_orgs.strip()\n",
    "        named_events = named_events.strip()\n",
    "        named_groups = named_groups.strip()\n",
    "        named_facilities = named_facilities.strip()\n",
    "        named_products = named_products.strip()\n",
    "        named_locations = named_locations.strip()\n",
    "        \n",
    "        \n",
    "        \n",
    "        if (named_persons != ''):\n",
    "            people[named_persons] = (people.get(named_persons, 0) + vader_score)\n",
    "        if (named_orgs != ''):    \n",
    "            organisations[named_orgs] = (organisations.get(named_orgs, 0) + vader_score)\n",
    "        if (named_groups != ''):    \n",
    "            nationalgroups[named_groups] = (nationalgroups.get(named_groups, 0) + vader_score)\n",
    "        if (named_events != ''):\n",
    "            events[named_events] = (events.get(named_events, 0) + vader_score)\n",
    "        if (named_facilities != ''):\n",
    "            facilities[named_facilities] = (facilities.get(named_facilities, 0) + vader_score)\n",
    "        if (named_products != ''):\n",
    "            products[named_products] = (products.get(named_products, 0) + vader_score)\n",
    "        if (named_locations != ''):\n",
    "            locations[named_locations] = (locations.get(named_locations, 0) + vader_score)\n",
    "    \n",
    "    return people,organisations,nationalgroups,events, facilities , products,locations    "
   ]
  },
  {
   "cell_type": "code",
   "execution_count": null,
   "metadata": {},
   "outputs": [],
   "source": []
  }
 ],
 "metadata": {
  "environment": {
   "name": "tf2-cpu.2-1.m46",
   "type": "gcloud",
   "uri": "gcr.io/deeplearning-platform-release/tf2-cpu.2-1:m46"
  },
  "kernelspec": {
   "display_name": "Python 3",
   "language": "python",
   "name": "python3"
  },
  "language_info": {
   "codemirror_mode": {
    "name": "ipython",
    "version": 3
   },
   "file_extension": ".py",
   "mimetype": "text/x-python",
   "name": "python",
   "nbconvert_exporter": "python",
   "pygments_lexer": "ipython3",
   "version": "3.7.6"
  }
 },
 "nbformat": 4,
 "nbformat_minor": 4
}
