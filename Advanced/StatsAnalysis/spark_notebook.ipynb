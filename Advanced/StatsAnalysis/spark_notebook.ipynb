{
 "cells": [
  {
   "cell_type": "code",
   "execution_count": 1,
   "metadata": {},
   "outputs": [
    {
     "name": "stdout",
     "output_type": "stream",
     "text": [
      "Collecting spark-nlp\n",
      "  Using cached spark_nlp-2.5.3-py2.py3-none-any.whl (123 kB)\n",
      "Installing collected packages: spark-nlp\n",
      "Successfully installed spark-nlp-2.5.3\n",
      "Requirement already satisfied: wordcloud in /opt/conda/anaconda/lib/python3.6/site-packages (1.7.0)\n",
      "Requirement already satisfied: numpy>=1.6.1 in /opt/conda/anaconda/lib/python3.6/site-packages (from wordcloud) (1.14.3)\n",
      "Requirement already satisfied: pillow in /opt/conda/anaconda/lib/python3.6/site-packages (from wordcloud) (5.1.0)\n",
      "Requirement already satisfied: matplotlib in /opt/conda/anaconda/lib/python3.6/site-packages (from wordcloud) (2.2.2)\n",
      "Requirement already satisfied: cycler>=0.10 in /opt/conda/anaconda/lib/python3.6/site-packages (from matplotlib->wordcloud) (0.10.0)\n",
      "Requirement already satisfied: pyparsing!=2.0.4,!=2.1.2,!=2.1.6,>=2.0.1 in /opt/conda/anaconda/lib/python3.6/site-packages (from matplotlib->wordcloud) (2.2.0)\n",
      "Requirement already satisfied: python-dateutil>=2.1 in /opt/conda/anaconda/lib/python3.6/site-packages (from matplotlib->wordcloud) (2.8.1)\n",
      "Requirement already satisfied: pytz in /opt/conda/anaconda/lib/python3.6/site-packages (from matplotlib->wordcloud) (2020.1)\n",
      "Requirement already satisfied: six>=1.10 in /opt/conda/anaconda/lib/python3.6/site-packages (from matplotlib->wordcloud) (1.15.0)\n",
      "Requirement already satisfied: kiwisolver>=1.0.1 in /opt/conda/anaconda/lib/python3.6/site-packages (from matplotlib->wordcloud) (1.0.1)\n",
      "Requirement already satisfied: setuptools in /opt/conda/anaconda/lib/python3.6/site-packages (from kiwisolver>=1.0.1->matplotlib->wordcloud) (47.3.1.post20200622)\n",
      "Requirement already satisfied: nltk in /opt/conda/anaconda/lib/python3.6/site-packages (3.3)\n",
      "Requirement already satisfied: six in /opt/conda/anaconda/lib/python3.6/site-packages (from nltk) (1.15.0)\n"
     ]
    }
   ],
   "source": [
    "!pip install --ignore-installed spark-nlp\n",
    "\n",
    "import sparknlp\n",
    "!pip install wordcloud\n",
    "!pip install nltk"
   ]
  },
  {
   "cell_type": "code",
   "execution_count": 2,
   "metadata": {},
   "outputs": [
    {
     "name": "stdout",
     "output_type": "stream",
     "text": [
      "[nltk_data] Downloading package stopwords to /root/nltk_data...\n",
      "[nltk_data]   Package stopwords is already up-to-date!\n"
     ]
    }
   ],
   "source": [
    "from pyspark.sql.functions import *\n",
    "import pyspark.sql.types as ty\n",
    "from collections import Counter\n",
    "from wordcloud import WordCloud\n",
    "import matplotlib.pyplot as plt\n",
    "import nltk\n",
    "from nltk.corpus import stopwords\n",
    "nltk.download('stopwords')\n",
    "from sparknlp.base import *\n",
    "from sparknlp.annotator import *\n",
    "import pandas as pd\n",
    "from pyspark.ml import Pipeline\n",
    "from pyspark.sql import DataFrame\n",
    "from functools import reduce"
   ]
  },
  {
   "cell_type": "code",
   "execution_count": 3,
   "metadata": {},
   "outputs": [],
   "source": [
    "from pyspark.sql import SparkSession\n",
    "def start():\n",
    "    builder = SparkSession.builder \\\n",
    "        .appName(\"Spark NLP Licensed\") \\\n",
    "        .master(\"yarn\") \\\n",
    "        .config(\"spark.jars.packages\", \"com.johnsnowlabs.nlp:spark-nlp_2.11:2.5.1\") \n",
    "        \n",
    "    return builder.getOrCreate()\n",
    "spark=start()\n",
    "spark.conf.set(\"spark.sql.shuffle.partitions\",400)\n",
    "#spark.conf.set(\"spark.executor.instances\",4)\n",
    "#spark.conf.set(\"spark.dynamicAllocation.enabled\",\"True\")\n",
    "spark.conf.set(\"spark.executor.memory\",\"6.9g\")\n",
    "spark.conf.set(\"spark.num.executors\",30)\n",
    "spark.conf.set(\"spark.executor.cores\",1)\n",
    "spark.conf.set(\"spark.sql.files.ignoreCorruptFiles\", \"true\")"
   ]
  },
  {
   "cell_type": "code",
   "execution_count": 4,
   "metadata": {},
   "outputs": [
    {
     "data": {
      "text/html": [
       "\n",
       "            <div>\n",
       "                <p><b>SparkSession - in-memory</b></p>\n",
       "                \n",
       "        <div>\n",
       "            <p><b>SparkContext</b></p>\n",
       "\n",
       "            <p><a href=\"http://cluster-2d0c-m.us-central1-f.c.level-agent-278512.internal:4040\">Spark UI</a></p>\n",
       "\n",
       "            <dl>\n",
       "              <dt>Version</dt>\n",
       "                <dd><code>v2.4.5</code></dd>\n",
       "              <dt>Master</dt>\n",
       "                <dd><code>yarn</code></dd>\n",
       "              <dt>AppName</dt>\n",
       "                <dd><code>Spark NLP Licensed</code></dd>\n",
       "            </dl>\n",
       "        </div>\n",
       "        \n",
       "            </div>\n",
       "        "
      ],
      "text/plain": [
       "<pyspark.sql.session.SparkSession at 0x7f6461a40cc0>"
      ]
     },
     "execution_count": 4,
     "metadata": {},
     "output_type": "execute_result"
    }
   ],
   "source": [
    "spark"
   ]
  },
  {
   "cell_type": "code",
   "execution_count": 5,
   "metadata": {},
   "outputs": [],
   "source": [
    "flat_count=udf(\n",
    "    lambda x:dict(Counter(x)),\n",
    "    ty.MapType(ty.StringType(),ty.IntegerType())) \n",
    "\n",
    "def matcher(l,l1):\n",
    "    l2=[]\n",
    "    for i in l:\n",
    "      if i in l1:\n",
    "            l2.append(i)#extend(seg.segment(i))\n",
    "    return l2\n",
    "\n",
    "def matcher_udf(term_list):\n",
    "        return udf(lambda row : matcher(row,term_list),ty.ArrayType(ty.StringType()))\n",
    "\n",
    "def token_to_text(x):\n",
    "    s=\"\"\n",
    "    for i in x:\n",
    "        i=i+\" \"\n",
    "        s=s + i\n",
    "    return s\n",
    "token_to_text_udf=udf(lambda x : token_to_text(x),ty.StringType())\n",
    "\n",
    "def generate_wordcloud(l):\n",
    "    #l=list(l)\n",
    "    total_text=\" \".join(l)\n",
    "    wordcloud = WordCloud(background_color=\"black\").generate(total_text)\n",
    "    plt.figure(figsize=(12,8))\n",
    "    plt.imshow(wordcloud, interpolation='bilinear')\n",
    "    plt.axis(\"off\")\n",
    "    plt.show()\n",
    "\n",
    "def generate_wordcloud_df(df):\n",
    "    word_df=df.select(token_to_text_udf(\"no_stop_lemmatized.result\").alias(\"cleaned_text\"))\n",
    "    text_l=list(word_df.select(\"cleaned_text\").toPandas()[\"cleaned_text\"])\n",
    "    return text_l"
   ]
  },
  {
   "cell_type": "code",
   "execution_count": 6,
   "metadata": {},
   "outputs": [
    {
     "data": {
      "text/plain": [
       "'2.4.5'"
      ]
     },
     "execution_count": 6,
     "metadata": {},
     "output_type": "execute_result"
    }
   ],
   "source": [
    "spark.version"
   ]
  },
  {
   "cell_type": "code",
   "execution_count": 7,
   "metadata": {},
   "outputs": [
    {
     "name": "stdout",
     "output_type": "stream",
     "text": [
      "lemma_antbnc download started this may take some time.\n",
      "Approximate size to download 907.6 KB\n",
      "[OK!]\n"
     ]
    }
   ],
   "source": [
    "\n",
    "doc_assembled=DocumentAssembler().setInputCol(\"full_text\").setOutputCol(\"document\")\n",
    "tokenizer = Tokenizer() \\\n",
    "     .setInputCols(['document']) \\\n",
    "     .setOutputCol('tokenized')\\\n",
    "     #.setContextChars([\"@\"])\n",
    "emojis=[u\"\\U0001F600-\\U0001F64F\"  # emoticons\n",
    "        u\"\\U0001F300-\\U0001F5FF\"  # symbols & pictographs\n",
    "        u\"\\U0001F680-\\U0001F6FF\"  # transport & map symbols\n",
    "        u\"\\U0001F1E0-\\U0001F1FF\"  # flags (iOS)\n",
    "        u\"\\U00002500-\\U00002BEF\"  # chinese char\n",
    "        u\"\\U00002702-\\U000027B0\"\n",
    "        u\"\\U00002702-\\U000027B0\"\n",
    "        u\"\\U000024C2-\\U0001F251\"\n",
    "        u\"\\U0001f926-\\U0001f937\"\n",
    "        u\"\\U00010000-\\U0010ffff\"\n",
    "        u\"\\u2640-\\u2642\" \n",
    "        u\"\\u2600-\\u2B55\"\n",
    "        u\"\\u200d\"\n",
    "        u\"\\u23cf\"\n",
    "        u\"\\u23e9\"\n",
    "        u\"\\u231a\"\n",
    "        u\"\\ufe0f\"  \n",
    "        u\"\\u3030\"]\n",
    "#print(type(emojis))\n",
    "\n",
    "others=[\"(https:?[^\\s]+)|(www\\.[^\\s]+)\",\"@[^\\s]+\",\"\\n\",\"[^A-Za-z0-9]\",\"[Rr][Tt]\",\"#\"]\n",
    "#others.append(emojis)\n",
    "for i in emojis:\n",
    "    others.append(i)\n",
    "others\n",
    "\n",
    "normalizer=Normalizer()\\\n",
    "        .setInputCols(\"tokenized\")\\\n",
    "        .setOutputCol(\"normalized\")\\\n",
    "        .setCleanupPatterns(others)\\\n",
    "        .setLowercase(True)\n",
    "ngrams_cum = NGramGenerator() \\\n",
    "            .setInputCols([\"no_stop_lemmatized\"]) \\\n",
    "            .setOutputCol(\"ngrams\") \\\n",
    "            .setN(3) \\\n",
    "            .setEnableCumulative(True)\n",
    "\n",
    "lemmatizer = LemmatizerModel.pretrained() \\\n",
    "     .setInputCols(['normalized']) \\\n",
    "     .setOutputCol('lemmatized')"
   ]
  },
  {
   "cell_type": "code",
   "execution_count": 8,
   "metadata": {},
   "outputs": [],
   "source": [
    "\n",
    "#from nltk.corpus import stopwords\n",
    "#eng_stopwords = stopwords.words('english')\n",
    "\n",
    "eng_stopwords = stopwords.words('english')\n",
    "\n",
    "stopwords_cleaner = StopWordsCleaner() \\\n",
    "     .setInputCols(['lemmatized']) \\\n",
    "     .setCaseSensitive(False)\\\n",
    "     .setOutputCol('no_stop_lemmatized') \\\n",
    "     .setStopWords(eng_stopwords)\n",
    "\n",
    "finisher = Finisher() \\\n",
    "    .setInputCols(['no_stop_lemmatized']) \\\n",
    "    .setCleanAnnotations(False)\n"
   ]
  },
  {
   "cell_type": "code",
   "execution_count": 9,
   "metadata": {},
   "outputs": [],
   "source": [
    "pipeline=Pipeline()\\\n",
    "        .setStages([\n",
    "        doc_assembled,\n",
    "        tokenizer,\n",
    "        normalizer,\n",
    "        lemmatizer,\n",
    "        stopwords_cleaner,\n",
    "        ngrams_cum,\n",
    "        finisher\n",
    "        ])"
   ]
  },
  {
   "cell_type": "code",
   "execution_count": 10,
   "metadata": {},
   "outputs": [],
   "source": [
    "def extract_data(path_list):\n",
    "    df_list=[]\n",
    "    for i in path_list:\n",
    "        #df=spark.read.json(i)\n",
    "        df=spark.read.orc(i)\n",
    "        df=df.filter(df.lang=='en')\n",
    "        df=df.withColumn('created_at', from_unixtime(unix_timestamp(\"created_at\", \"EEE MMM dd HH:mm:ss ZZZZ yyyy\"), \"yyyy-MM-dd\"))\n",
    "        df=pipeline.fit(df).transform(df)\n",
    "        df=df.select(\"id\",\"created_at\",\"no_stop_lemmatized.result\",\"full_text\",\"retweet_count\",\"geo\",\"coordinates\",\"ngrams\")\n",
    "        df_list.append(df)\n",
    "    data=reduce(DataFrame.unionAll,df_list)\n",
    "    \n",
    "    return data"
   ]
  },
  {
   "cell_type": "code",
   "execution_count": 29,
   "metadata": {},
   "outputs": [],
   "source": [
    "paths=[\"gs://joel_twitter_data/data/2020-01/*-12.jsonl.gz\",\"gs://joel_twitter_data/data/2020-02/*-12.jsonl.gz\",\"gs://joel_twitter_data/data/2020-03/*-12.jsonl.gz\",\"gs://joel_twitter_data/data/2020-04/*-12.jsonl.gz\",\"gs://joel_twitter_data/data/2020-05/*-12.jsonl.gz\"]\n",
    "paths1=[\"gs://joel_twitter_data/data/2020-01/*-13.jsonl.gz\",\"gs://joel_twitter_data/data/2020-02/*-13.jsonl.gz\",\"gs://joel_twitter_data/data/2020-03/*-13.jsonl.gz\",\"gs://joel_twitter_data/data/2020-04/*-13.jsonl.gz\",\"gs://joel_twitter_data/data/2020-05/*-13.jsonl.gz\"]\n",
    "paths2=[\"gs://joel_twitter_data/data/2020-01/*-11.jsonl.gz\",\"gs://joel_twitter_data/data/2020-02/*-11.jsonl.gz\",\"gs://joel_twitter_data/data/2020-03/*-11.jsonl.gz\",\"gs://joel_twitter_data/data/2020-04/*-11.jsonl.gz\",\"gs://joel_twitter_data/data/2020-05/*-11.jsonl.gz\"]\n",
    "paths3=[\"gs://joel_twitter_data/data/2020-01/*-14.jsonl.gz\",\"gs://joel_twitter_data/data/2020-02/*-14.jsonl.gz\",\"gs://joel_twitter_data/data/2020-03/*-14.jsonl.gz\",\"gs://joel_twitter_data/data/2020-04/*-14.jsonl.gz\",\"gs://joel_twitter_data/data/2020-05/*-14.jsonl.gz\"]"
   ]
  },
  {
   "cell_type": "code",
   "execution_count": null,
   "metadata": {},
   "outputs": [],
   "source": [
    "data1=extract_data(paths1)\n",
    "data2=extract_data(paths2)\n",
    "data3=extract_data(paths3)\n",
    "data=extract_data(paths)\n",
    "data_l=[data,data1,data2,data3]\n",
    "data=reduce(DataFrame.unionAll,data_l)"
   ]
  },
  {
   "cell_type": "code",
   "execution_count": 12,
   "metadata": {},
   "outputs": [],
   "source": [
    "#data=extract_data(paths_full)"
   ]
  },
  {
   "cell_type": "code",
   "execution_count": 13,
   "metadata": {},
   "outputs": [
    {
     "data": {
      "text/plain": [
       "DataFrame[id: bigint, created_at: string, result: array<string>, full_text: string, retweet_count: bigint, geo: struct<coordinates:array<double>,type:string>, coordinates: struct<coordinates:array<double>,type:string>, ngrams: array<struct<annotatorType:string,begin:int,end:int,result:string,metadata:map<string,string>,embeddings:array<float>>>]"
      ]
     },
     "execution_count": 13,
     "metadata": {},
     "output_type": "execute_result"
    }
   ],
   "source": [
    "data"
   ]
  },
  {
   "cell_type": "code",
   "execution_count": null,
   "metadata": {},
   "outputs": [
    {
     "data": {
      "text/plain": [
       "78363607"
      ]
     },
     "execution_count": 13,
     "metadata": {},
     "output_type": "execute_result"
    }
   ],
   "source": [
    "data.count()"
   ]
  },
  {
   "cell_type": "code",
   "execution_count": null,
   "metadata": {},
   "outputs": [
    {
     "data": {
      "text/plain": [
       "[Row(created_at='2020-04-15'),\n",
       " Row(created_at='2020-04-13'),\n",
       " Row(created_at='2020-02-26'),\n",
       " Row(created_at='2020-04-12'),\n",
       " Row(created_at='2020-02-13'),\n",
       " Row(created_at='2020-02-07'),\n",
       " Row(created_at='2020-04-20'),\n",
       " Row(created_at='2020-03-19'),\n",
       " Row(created_at='2020-02-27'),\n",
       " Row(created_at='2020-02-16'),\n",
       " Row(created_at='2020-02-21'),\n",
       " Row(created_at='2020-01-22'),\n",
       " Row(created_at='2020-04-01'),\n",
       " Row(created_at='2020-04-22'),\n",
       " Row(created_at='2020-02-29'),\n",
       " Row(created_at='2020-03-16'),\n",
       " Row(created_at='2020-01-24'),\n",
       " Row(created_at='2020-04-03'),\n",
       " Row(created_at='2020-04-19'),\n",
       " Row(created_at='2020-03-03'),\n",
       " Row(created_at='2020-04-11'),\n",
       " Row(created_at='2020-05-05'),\n",
       " Row(created_at='2020-04-06'),\n",
       " Row(created_at='2020-03-09'),\n",
       " Row(created_at='2020-03-06'),\n",
       " Row(created_at='2020-03-26'),\n",
       " Row(created_at='2020-05-04'),\n",
       " Row(created_at='2020-03-29'),\n",
       " Row(created_at='2020-02-04'),\n",
       " Row(created_at='2020-02-05'),\n",
       " Row(created_at='2020-03-05'),\n",
       " Row(created_at='2020-03-02'),\n",
       " Row(created_at='2020-05-02'),\n",
       " Row(created_at='2020-04-25'),\n",
       " Row(created_at='2020-04-04'),\n",
       " Row(created_at='2020-02-25'),\n",
       " Row(created_at='2020-04-14'),\n",
       " Row(created_at='2020-04-18'),\n",
       " Row(created_at='2020-01-26'),\n",
       " Row(created_at='2020-04-23'),\n",
       " Row(created_at='2020-04-10'),\n",
       " Row(created_at='2020-03-25'),\n",
       " Row(created_at='2020-02-22'),\n",
       " Row(created_at='2020-05-06'),\n",
       " Row(created_at='2020-04-21'),\n",
       " Row(created_at='2020-02-19'),\n",
       " Row(created_at='2020-03-08'),\n",
       " Row(created_at='2020-02-24'),\n",
       " Row(created_at='2020-02-09'),\n",
       " Row(created_at='2020-04-30'),\n",
       " Row(created_at='2020-03-20'),\n",
       " Row(created_at='2020-04-24'),\n",
       " Row(created_at='2020-02-14'),\n",
       " Row(created_at='2020-01-23'),\n",
       " Row(created_at='2020-01-25'),\n",
       " Row(created_at='2020-02-08'),\n",
       " Row(created_at='2020-02-06'),\n",
       " Row(created_at='2020-03-15'),\n",
       " Row(created_at='2020-04-09'),\n",
       " Row(created_at='2020-04-29'),\n",
       " Row(created_at='2020-04-17'),\n",
       " Row(created_at='2020-02-02'),\n",
       " Row(created_at='2020-03-07'),\n",
       " Row(created_at='2020-03-24'),\n",
       " Row(created_at='2020-03-17'),\n",
       " Row(created_at='2020-01-28'),\n",
       " Row(created_at='2020-04-02'),\n",
       " Row(created_at='2020-05-07'),\n",
       " Row(created_at='2020-03-18'),\n",
       " Row(created_at='2020-02-17'),\n",
       " Row(created_at='2020-02-01'),\n",
       " Row(created_at='2020-03-04'),\n",
       " Row(created_at='2020-03-10'),\n",
       " Row(created_at='2020-01-30'),\n",
       " Row(created_at='2020-04-26'),\n",
       " Row(created_at='2020-03-12'),\n",
       " Row(created_at='2020-02-03'),\n",
       " Row(created_at='2020-02-18'),\n",
       " Row(created_at='2020-01-31'),\n",
       " Row(created_at='2020-05-03'),\n",
       " Row(created_at='2020-03-31'),\n",
       " Row(created_at='2020-01-29'),\n",
       " Row(created_at='2020-03-14'),\n",
       " Row(created_at='2020-03-11'),\n",
       " Row(created_at='2020-03-23'),\n",
       " Row(created_at='2020-03-30'),\n",
       " Row(created_at='2020-01-27'),\n",
       " Row(created_at='2020-04-27'),\n",
       " Row(created_at='2020-05-08'),\n",
       " Row(created_at='2020-02-20'),\n",
       " Row(created_at='2020-03-13'),\n",
       " Row(created_at='2020-03-27'),\n",
       " Row(created_at='2020-04-16'),\n",
       " Row(created_at='2020-03-22'),\n",
       " Row(created_at='2020-02-12'),\n",
       " Row(created_at='2020-03-28'),\n",
       " Row(created_at='2020-04-08'),\n",
       " Row(created_at='2020-02-11'),\n",
       " Row(created_at='2020-02-28'),\n",
       " Row(created_at='2020-03-21'),\n",
       " Row(created_at='2020-03-01'),\n",
       " Row(created_at='2020-04-28'),\n",
       " Row(created_at='2020-04-07'),\n",
       " Row(created_at='2020-02-15'),\n",
       " Row(created_at='2020-02-10'),\n",
       " Row(created_at='2020-04-05'),\n",
       " Row(created_at='2020-05-01')]"
      ]
     },
     "execution_count": 34,
     "metadata": {},
     "output_type": "execute_result"
    }
   ],
   "source": [
    "data.select(\"created_at\").distinct().collect()"
   ]
  },
  {
   "cell_type": "markdown",
   "metadata": {},
   "source": [
    "# Frequent Terms"
   ]
  },
  {
   "cell_type": "code",
   "execution_count": 15,
   "metadata": {},
   "outputs": [
    {
     "data": {
      "text/plain": [
       "DataFrame[id: bigint, created_at: string, result: array<string>, full_text: string, retweet_count: bigint, geo: struct<coordinates:array<double>,type:string>, coordinates: struct<coordinates:array<double>,type:string>, ngrams: array<struct<annotatorType:string,begin:int,end:int,result:string,metadata:map<string,string>,embeddings:array<float>>>]"
      ]
     },
     "execution_count": 15,
     "metadata": {},
     "output_type": "execute_result"
    }
   ],
   "source": [
    "data"
   ]
  },
  {
   "cell_type": "code",
   "execution_count": 12,
   "metadata": {},
   "outputs": [
    {
     "data": {
      "text/plain": [
       "11191922"
      ]
     },
     "execution_count": 12,
     "metadata": {},
     "output_type": "execute_result"
    }
   ],
   "source": [
    "data.count()"
   ]
  },
  {
   "cell_type": "code",
   "execution_count": null,
   "metadata": {},
   "outputs": [],
   "source": [
    "t1=data.select(\"id\",\"created_at\",\"ngrams\",explode(col(\"ngrams.result\")).alias(\"word\"))#.show()\n",
    "#t1.show(20)\n",
    "#df_count=t1.agg(countDistinct(\"word\"))\n",
    "df_count=t1.select(\"word\").distinct().count()\n",
    "#df_count=df_count.cache()"
   ]
  },
  {
   "cell_type": "code",
   "execution_count": 18,
   "metadata": {},
   "outputs": [
    {
     "data": {
      "text/plain": [
       "DataFrame[count(DISTINCT word): bigint]"
      ]
     },
     "execution_count": 18,
     "metadata": {},
     "output_type": "execute_result"
    }
   ],
   "source": [
    "df_count"
   ]
  },
  {
   "cell_type": "code",
   "execution_count": null,
   "metadata": {},
   "outputs": [],
   "source": [
    "df_count.orderBy(desc(\"count(DISTINCT word)\")).take(150)"
   ]
  },
  {
   "cell_type": "code",
   "execution_count": 13,
   "metadata": {},
   "outputs": [
    {
     "data": {
      "text/plain": [
       "['sars cov 2  ',\n",
       " 'coronavirus ',\n",
       " 'covid19',\n",
       " 'quarantine ',\n",
       " 'self isolating ',\n",
       " 'stay at home ',\n",
       " 'shelter in place',\n",
       " 'middle east respiratory syndrome ',\n",
       " 'mers cov ',\n",
       " 'severe acute respiratory syndrome ',\n",
       " 'sars cov ',\n",
       " 'community spread ',\n",
       " 'public health emergency ',\n",
       " 'outbreak ',\n",
       " 'epidemic ',\n",
       " 'droplet transmission ',\n",
       " 'home isolation ',\n",
       " 'viral shedding',\n",
       " 'novel coronavirus',\n",
       " 'symptomatic',\n",
       " 'shortness of breath',\n",
       " 'sore throat',\n",
       " 'headache',\n",
       " 'respiratory illness',\n",
       " 'respiratory virus',\n",
       " 'tasteless',\n",
       " 'fever',\n",
       " 'fever 100',\n",
       " 'fever 38c',\n",
       " 'rhinorrhea',\n",
       " 'dyspnea',\n",
       " 'nausea',\n",
       " 'antigen test',\n",
       " 'corona virus',\n",
       " 'corona',\n",
       " 'pandemic',\n",
       " 'cough',\n",
       " 'tiredness',\n",
       " 'chest pain',\n",
       " 'loss of taste',\n",
       " 'loss of smell',\n",
       " 'psa',\n",
       " 'psa facial mask',\n",
       " 'wuhanvirus',\n",
       " 'chinavirus',\n",
       " 'wuhan',\n",
       " 'china',\n",
       " 'facial mask',\n",
       " 'coronavirus outbreak',\n",
       " 'spread',\n",
       " 'wuhan',\n",
       " 'runny nose',\n",
       " 'diarrhoea',\n",
       " 'flu',\n",
       " 'stay home',\n",
       " 'social distance',\n",
       " 'covid',\n",
       " 'lockdownself-quarantine',\n",
       " 'community transmission',\n",
       " 'super spreader',\n",
       " 'zoonotic disease',\n",
       " 'self-isolate',\n",
       " 'self isolation',\n",
       " 'covid 19',\n",
       " 'merscov',\n",
       " 'sarscov',\n",
       " 'coronavirus case']"
      ]
     },
     "execution_count": 13,
     "metadata": {},
     "output_type": "execute_result"
    }
   ],
   "source": [
    "terms=spark.read.text(\"gs://joel_twitter_data/notebooks/jupyter/outbreak.txt\")\n",
    "terms=terms.toPandas()[\"value\"]\n",
    "\n",
    "terms=list(terms)\n",
    "#new=[\"psa\",\"facial mask\",\"psa facial mask\",\"wuhan\",\"china\"]\n",
    "#terms.extend(new)\n",
    "#terms\n",
    "terms=list(map(lambda x:x.lower(),terms))\n",
    "#li=[]\n",
    "\n",
    "#for i in l:\n",
    "new=[\"psa\",\"psa facial mask\",\"wuhanvirus\",\"chinavirus\",\"wuhan\",\"china\",\"facial mask\",\"coronavirus outbreak\",\"spread\",\"wuhan\",\"runny nose\",\"diarrhoea\",\"flu\",\"stay home\",\"social distance\",\"covid\",\"lockdown\"\n",
    "     \"self-quarantine\",\"community transmission\",\"super spreader\",\"zoonotic disease\",\"self-isolate\",\"self isolation\"]\n",
    "\n",
    "#    print(segment(i))\n",
    "terms.extend(new)\n",
    "#li\n",
    "#segment(\"hello\")\n",
    "terms\n",
    "terms[2]=\"covid19\"\n",
    "\n",
    "terms.append(\"covid 19\")\n",
    "terms.append(\"merscov\")\n",
    "terms.append(\"sarscov\")\n",
    "terms.append(\"coronavirus case\")\n",
    "terms"
   ]
  },
  {
   "cell_type": "code",
   "execution_count": 19,
   "metadata": {},
   "outputs": [],
   "source": [
    "t1=data.select(\"id\",\"created_at\",\"ngrams\")#,explode(col(\"ngrams.result\")).alias(\"word\"))#.show()\n",
    "\n",
    "t1=t1.withColumn(\"matched_word_list\", matcher_udf(terms)(col(\"ngrams.result\")))\n",
    "#     .withColumn(\"count\",flat_count(\"\"))\n",
    "t1=t1.withColumn(\"dict\",flat_count(\"matched_word_list\"))\n",
    "t2=t1.select(\"created_at\",\"id\",\"dict\",explode(col(\"dict\")).alias(\"term\",\"frequency\"))\n",
    "#t2.show(20)\n",
    "t2\n",
    "k=t2.groupBy(\"term\").agg(sum(\"frequency\"))#.show()\n",
    "k.cache()"
   ]
  },
  {
   "cell_type": "code",
   "execution_count": null,
   "metadata": {},
   "outputs": [],
   "source": [
    "freq_terms=k.orderBy(desc(\"sum(frequency)\")).toPandas()\n",
    "freq_terms"
   ]
  },
  {
   "cell_type": "code",
   "execution_count": 23,
   "metadata": {},
   "outputs": [
    {
     "data": {
      "text/plain": [
       "<matplotlib.axes._subplots.AxesSubplot at 0x7f03597b2668>"
      ]
     },
     "execution_count": 23,
     "metadata": {},
     "output_type": "execute_result"
    },
    {
     "data": {
      "image/png": "[encoded data removed]",
      "text/plain": [
       "<Figure size 432x288 with 1 Axes>"
      ]
     },
     "metadata": {
      "needs_background": "light"
     },
     "output_type": "display_data"
    }
   ],
   "source": [
    "import pandas as pd\n",
    "freq_terms.plot.bar(x='term',y='sum(frequency)')"
   ]
  },
  {
   "cell_type": "markdown",
   "metadata": {},
   "source": [
    "# Outbreak Term Metrics"
   ]
  },
  {
   "cell_type": "code",
   "execution_count": 17,
   "metadata": {},
   "outputs": [],
   "source": [
    "freq_Terms=list(freq_terms[:30][\"term\"])"
   ]
  },
  {
   "cell_type": "code",
   "execution_count": 18,
   "metadata": {},
   "outputs": [],
   "source": [
    "t1=data.select(\"id\",\"created_at\",\"ngrams\")#,explode(col(\"ngrams.result\")).alias(\"word\"))#.show()\n",
    "\n",
    "t1=t1.withColumn(\"matched_word_list\", matcher_udf(freq_Terms)(col(\"ngrams.result\")))\n",
    "#     .withColumn(\"count\",flat_count(\"\"))\n",
    "t1=t1.withColumn(\"dict\",flat_count(\"matched_word_list\"))\n",
    "t2=t1.select(\"created_at\",\"id\",\"dict\",explode(col(\"dict\")).alias(\"term\",\"frequency\"))\n",
    "#t2.show(20)\n",
    "t2.cache()\n",
    "t_g=t2.groupBy(\"created_at\").agg(sum(\"frequency\")).limit(150)"
   ]
  },
  {
   "cell_type": "code",
   "execution_count": null,
   "metadata": {},
   "outputs": [],
   "source": [
    "#Create dataframe with daily count of outbeak and term fequencies\n",
    "t_g=t_g.collect()\n",
    "t_g=spark.createDataFrame(t_g)\n",
    "t_g"
   ]
  },
  {
   "cell_type": "code",
   "execution_count": 21,
   "metadata": {},
   "outputs": [],
   "source": [
    "t_g.repartition(4).write.mode(\"overwrite\").format('orc').save(\"gs://joel_twitter_data/data_1/more_terms/daily/\")"
   ]
  },
  {
   "cell_type": "markdown",
   "metadata": {},
   "source": [
    "# Term-wise table"
   ]
  },
  {
   "cell_type": "code",
   "execution_count": 22,
   "metadata": {},
   "outputs": [
    {
     "data": {
      "text/plain": [
       "DataFrame[created_at: string, zipped: array<struct<term:string,daily_frequency:bigint>>]"
      ]
     },
     "execution_count": 22,
     "metadata": {},
     "output_type": "execute_result"
    }
   ],
   "source": [
    "t_gr=t2.groupBy(\"created_at\",\"term\").agg(sum(\"frequency\").alias(\"daily_frequency\"))\n",
    "t_res=t_gr.groupBy(\"created_at\")\\\n",
    "        .agg(collect_list(struct(\"term\",\"daily_frequency\")).alias(\"zipped\"))\n",
    "t_res"
   ]
  },
  {
   "cell_type": "code",
   "execution_count": 23,
   "metadata": {},
   "outputs": [],
   "source": [
    "def create_map(x):  \n",
    "    l=list(x)\n",
    "    return dict(l)\n",
    "\n",
    "map_udf=udf(lambda x:create_map(x),ty.MapType(ty.StringType(),ty.IntegerType()))"
   ]
  },
  {
   "cell_type": "code",
   "execution_count": 24,
   "metadata": {},
   "outputs": [
    {
     "data": {
      "text/plain": [
       "DataFrame[created_at: string, freq_terms: struct<china:int,covid19:int,corona:int,wuhan:int,pandemic:int,lockdown:int,spread:int,corona virus:int,covid:int,coronavirus outbreak:int,flu:int,stay home:int,social distance:int,coronavirus case:int,novel coronavirus:int,covid 19:int,psa:int,cough:int,fever:int,facial mask:int,psa facial mask:int,wuhanvirus:int,chinavirus:int,symptomatic:int,respiratory illness:int,headache:int,sore throat:int,runny nose:int,respiratory virus:int,merscov:int>]"
      ]
     },
     "execution_count": 24,
     "metadata": {},
     "output_type": "execute_result"
    }
   ],
   "source": [
    "# Dataframe containing daily count of each term\n",
    "t_res1=t_res.withColumn(\"map_obj\",map_udf(\"zipped\"))\n",
    "t_res2= t_res1.select(\"created_at\",struct(*[col(\"map_obj\").getItem(c).alias(c) for c in freq_Terms]).alias(\"freq_terms\"))\n",
    "t_res2"
   ]
  },
  {
   "cell_type": "code",
   "execution_count": null,
   "metadata": {},
   "outputs": [],
   "source": [
    "res=t_res2.take(110)"
   ]
  },
  {
   "cell_type": "code",
   "execution_count": 31,
   "metadata": {},
   "outputs": [],
   "source": [
    "#res=spark.createDataFrame(res)"
   ]
  },
  {
   "cell_type": "code",
   "execution_count": 33,
   "metadata": {},
   "outputs": [],
   "source": [
    "res=res.select(\"created_at\",\"freq_terms.*\")"
   ]
  },
  {
   "cell_type": "code",
   "execution_count": 34,
   "metadata": {},
   "outputs": [],
   "source": [
    "res=res.withColumnRenamed(\"corona virus\",\"coronavirus\")\\\n",
    "       .withColumnRenamed(\"coronavirus outbreak\",\"coronavirus_outbreak\")\\\n",
    "        .withColumnRenamed(\"coronavirus case\",\"coronavirus_case\")\\\n",
    "        .withColumnRenamed(\"novel coronavirus\",\"novel_coronavirus\")\\\n",
    "        .withColumnRenamed(\"facial mask\",\"facial_mask\")\\\n",
    "        .withColumnRenamed(\"psa facial mask\",\"psa_facial_mask\")\\\n",
    "        .withColumnRenamed(\"social distance\",\"social_distance\")"
   ]
  },
  {
   "cell_type": "code",
   "execution_count": 35,
   "metadata": {},
   "outputs": [
    {
     "data": {
      "text/plain": [
       "DataFrame[created_at: string, china: bigint, covid19: bigint, corona: bigint, wuhan: bigint, pandemic: bigint, lockdown: bigint, spread: bigint, coronavirus: bigint, covid: bigint, coronavirus_outbreak: bigint, flu: bigint, stay_home: bigint, social_distance: bigint, coronavirus_case: bigint, novel_coronavirus: bigint, covid 19: bigint, psa: bigint, cough: bigint, fever: bigint, facial_mask: bigint, psa_facial_mask: bigint, wuhanvirus: bigint, chinavirus: bigint, symptomatic: bigint, respiratory illness: bigint, headache: bigint, sore throat: bigint, runny nose: bigint, respiratory virus: bigint, merscov: bigint]"
      ]
     },
     "execution_count": 35,
     "metadata": {},
     "output_type": "execute_result"
    }
   ],
   "source": [
    "res=res.withColumnRenamed(\"stay home\",\"stay_home\")\n",
    "res"
   ]
  },
  {
   "cell_type": "code",
   "execution_count": 36,
   "metadata": {},
   "outputs": [],
   "source": [
    "res.repartition(4).write.mode(\"overwrite\").format(\"orc\").save(\"gs://joel_twitter_data/data_1/more_terms/d_termwise/\")"
   ]
  },
  {
   "cell_type": "code",
   "execution_count": null,
   "metadata": {
    "scrolled": false
   },
   "outputs": [],
   "source": [
    "d=spark.read.orc(\"gs://joel_twitter_data/data_1/more_terms/d_termwise/*.orc\")"
   ]
  },
  {
   "cell_type": "code",
   "execution_count": 27,
   "metadata": {
    "scrolled": true
   },
   "outputs": [
    {
     "name": "stdout",
     "output_type": "stream",
     "text": [
      "+----------+-----+-------+------+-----+--------+--------+------+-----------+-----+--------------------+----+---------+---------------+----------------+-----------------+--------+-----+-----+-----+-----------+---------------+\n",
      "|created_at|china|covid19|corona|wuhan|pandemic|lockdown|spread|coronavirus|covid|coronavirus_outbreak| flu|stay_home|social_distance|coronavirus_case|novel_coronavirus|covid 19|  psa|cough|fever|facial_mask|psa_facial_mask|\n",
      "+----------+-----+-------+------+-----+--------+--------+------+-----------+-----+--------------------+----+---------+---------------+----------------+-----------------+--------+-----+-----+-----+-----------+---------------+\n",
      "|2020-03-26| 4404|  15108|  3373|  701|    5557|    5195|  1779|       1016| 2517|                 409| 489|     2514|           2655|             512|              162|     556|   44|  255|   97|          1|           null|\n",
      "|2020-04-13| 7695|  15512|  2735|  683|    6671|    7563|  1441|        821| 2573|                 374| 505|     1699|           1716|             347|              111|     521|   47|   83|   84|       null|           null|\n",
      "|2020-04-23| 2207|  18846|  2960|  706|    8516|    8205|  1872|        746| 4660|                 273| 616|     2358|           1867|             347|               98|     834|   17|   84|   89|          1|           null|\n",
      "|2020-02-08|20645|   null|  2717| 8945|     355|     336|  2402|       1691| null|                2074| 936|      172|              7|             901|             1137|    null|    4|  215|  369|         49|              1|\n",
      "|2020-01-30|97695|   null| 20391|23428|    1920|    2088| 12004|      18262| null|                9097|3441|      251|              7|            3423|            14433|    null| 5427|  763|  725|       1093|           1074|\n",
      "|2020-03-06| 5557|  22094|  7335|  954|    1436|      74|  4424|       4326|  509|                1861|1381|      268|             56|            2116|              384|      81|   56|  476|  140|          4|           null|\n",
      "|2020-04-09| 6091|  17687|  3046|  824|    7678|    6480|  1981|        766| 3326|                 348| 341|     2602|           1819|             445|              158|     661|   25|  129|   65|       null|           null|\n",
      "|2020-02-05|16443|   null|  3402| 6808|     500|     223|  1942|       2628| null|                1729|1062|       82|              6|             851|             1730|    null|   13|  242|  102|          6|              3|\n",
      "|2020-03-22| 3636|  12838|  7322|  535|    5099|    4102|  1955|       2227| 2127|                 366| 634|     2786|           4285|             587|               75|     527|   61|  616|   90|       null|           null|\n",
      "|2020-01-29|64978|   null| 13441|41405|    1359|     478|  8669|      10868| null|                8271|2887|      191|             20|            2364|             3474|    null|15733|  758|  474|      15136|          15049|\n",
      "|2020-01-27|20311|   null|  4394|30329|    1140|    1505| 18028|       3829| null|                5576|3631|      168|              2|            2163|             3060|    null|   37| 1095|  703|          3|           null|\n",
      "|2020-03-27| 5485|  13984|  4499|  831|    6223|    4969|  1643|       1652| 2256|                 380| 550|     2413|           1946|            1062|              108|     769|   33|  186|   92|          1|           null|\n",
      "|2020-04-17| 6203|  15021|  1983| 1273|    6509|    6745|  1211|        484| 2986|                 464| 490|     1726|           2066|             270|               96|     499|   18|   53|   47|          2|           null|\n",
      "|2020-04-15| 8809|  18476|  3335|  806|    8747|    7160|  2012|        645| 2955|                 421| 398|     1664|           2798|             490|              164|     556|   28|  140|   94|       null|           null|\n",
      "|2020-04-02| 5269|  17234|  3111|  721|    7101|    5662|  2033|        748| 2561|                 493| 424|     2699|           2481|             443|              113|     643|   19|  264|  121|       null|           null|\n",
      "|2020-02-16|18730|   3063|  2701| 3702|     469|     607|  1725|       1483|   92|                1257| 490|       95|              2|             662|              599|      10|    3|   76|   77|          2|              2|\n",
      "|2020-03-15| 3174|  14747|  5880|  725|    4315|    1650|  2592|       2494| 1466|                 635| 553|      629|           2336|             461|              428|     351|   38|  302|   99|       null|           null|\n",
      "|2020-03-08| 4818|  10572|  6404| 1574|     971|     495|  2983|       3251|  660|                1259|1492|      250|            207|            1059|              351|     205|   21|  377| 1165|       null|           null|\n",
      "|2020-02-14|25104|   4039|  7786| 5913|     425|     737|  2363|       2287|  161|                2848| 580|      136|              3|             922|             1345|      23|   34|  220|  158|          2|           null|\n",
      "|2020-03-09| 4080|  12757|  5641| 2445|    1582|     205|  3481|       2533|  836|                1764|1986|      234|            119|            1582|              402|     304|   23|  289|  380|       null|           null|\n",
      "+----------+-----+-------+------+-----+--------+--------+------+-----------+-----+--------------------+----+---------+---------------+----------------+-----------------+--------+-----+-----+-----+-----------+---------------+\n",
      "only showing top 20 rows\n",
      "\n"
     ]
    }
   ],
   "source": [
    "d.show()"
   ]
  }
 ],
 "metadata": {
  "kernelspec": {
   "display_name": "Python 3",
   "language": "python",
   "name": "python3"
  },
  "language_info": {
   "codemirror_mode": {
    "name": "ipython",
    "version": 3
   },
   "file_extension": ".py",
   "mimetype": "text/x-python",
   "name": "python",
   "nbconvert_exporter": "python",
   "pygments_lexer": "ipython3",
   "version": "3.7.4"
  }
 },
 "nbformat": 4,
 "nbformat_minor": 2
}
